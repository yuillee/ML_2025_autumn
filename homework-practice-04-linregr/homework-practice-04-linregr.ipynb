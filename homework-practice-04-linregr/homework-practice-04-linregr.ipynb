{
 "cells": [
  {
   "cell_type": "markdown",
   "metadata": {},
   "source": [
    "# Домашнее задание 2 - предобработка признаков, pandas\n",
    "\n",
    "\n",
    "### О задании\n",
    "\n",
    "Практическое задание 2 посвящено изучению основных библиотек для анализа данных, а также линейных моделей и методов их обучения. Вы научитесь:\n",
    " * применять библиотеки NumPy и Pandas для осуществления желаемых преобразований;\n",
    " * подготавливать данные для обучения линейных моделей;\n",
    " * обучать линейную, Lasso и Ridge-регрессии при помощи модуля scikit-learn;\n",
    " * реализовывать обычный и стохастический градиентные спуски;\n",
    " * обучать линейную регрессию для произвольного функционала качества.\n",
    " \n",
    "\n",
    "### Оценивание и штрафы\n",
    "\n",
    "Каждая из задач имеет определенную «стоимость» (указана в скобках около задачи). Максимально допустимая оценка за работу — 10 баллов. Кроме того, некоторые из заданий являются опциональными (необязательными), однако за их выполнение можно получить дополнительные баллы, которые позднее будут учитываться при проставлении оценок автоматом по курсу.\n",
    "\n",
    "Сдавать задание после указанного срока сдачи нельзя. При выставлении неполного балла за задание в связи с наличием ошибок на усмотрение проверяющего предусмотрена возможность исправить работу на указанных в ответном письме условиях.\n",
    "\n",
    "Задание выполняется самостоятельно. «Похожие» решения считаются плагиатом и все задействованные студенты (в том числе те, у кого списали) не могут получить за него больше 0 баллов. Если вы нашли решение какого-то из заданий (или его часть) в открытом источнике, необходимо указать ссылку на этот источник в отдельном блоке в конце Вашей работы (скорее всего вы будете не единственным, кто это нашел, поэтому чтобы исключить подозрение в плагиате, необходима ссылка на источник). \n",
    "\n",
    "Неэффективная реализация кода может негативно отразиться на оценке.\n",
    "\n",
    "\n",
    "### Формат сдачи\n",
    "Для сдачи задания получившийся файл \\*.ipynb с решением необходимо выложить в свой репозиторий github."
   ]
  },
  {
   "cell_type": "markdown",
   "metadata": {},
   "source": [
    "## Библиотеки для анализа данных\n",
    "\n",
    "### NumPy\n",
    "\n",
    "Во всех заданиях данного раздела запрещено использовать циклы  и list comprehensions. Под вектором и матрицей в данных заданиях понимается одномерный и двумерный numpy.array соответственно."
   ]
  },
  {
   "cell_type": "code",
   "execution_count": 5,
   "metadata": {},
   "outputs": [],
   "source": [
    "import numpy as np"
   ]
  },
  {
   "cell_type": "markdown",
   "metadata": {},
   "source": [
    "**1. (0.2 балла)** Реализуйте функцию, возвращающую максимальный элемент в векторе x среди элементов, перед которыми стоит нулевой. Для x = np.array([6, 2, 0, 3, 0, 0, 5, 7, 0]) ответом является 5. Если нулевых элементов нет, функция должна возвращать None.\n"
   ]
  },
  {
   "cell_type": "code",
   "execution_count": 6,
   "metadata": {},
   "outputs": [
    {
     "name": "stdout",
     "output_type": "stream",
     "text": [
      "5\n"
     ]
    }
   ],
   "source": [
    "def max_element(arr):\n",
    "    # Your code here\n",
    "    z = arr[1:][arr[:-1] == 0]\n",
    "    if len(z) == 0:\n",
    "        return None\n",
    "    return np.max(z)\n",
    "x = np.array([6, 2, 0, 3, 0, 0, 5, 7, 0])\n",
    "print(max_element(x))"
   ]
  },
  {
   "cell_type": "markdown",
   "metadata": {},
   "source": [
    "**2. (0.2 балла)** Реализуйте функцию, принимающую на вход матрицу и некоторое число и возвращающую ближайший к числу элемент матрицы. Например: для X = np.arange(0,10).reshape((2, 5)) и v = 3.6 ответом будет 4."
   ]
  },
  {
   "cell_type": "code",
   "execution_count": 7,
   "metadata": {
    "collapsed": true
   },
   "outputs": [
    {
     "name": "stdout",
     "output_type": "stream",
     "text": [
      "4\n"
     ]
    }
   ],
   "source": [
    "def nearest_value(X, v):\n",
    "    # Your code here\n",
    "    z = np.abs(X - v)\n",
    "    i = np.argmin(z)\n",
    "    return X.flat[i]\n",
    "X = np.arange(0,10).reshape((2, 5)) \n",
    "v = 3.6\n",
    "print(nearest_value(X, v))"
   ]
  },
  {
   "cell_type": "markdown",
   "metadata": {},
   "source": [
    "**3. (0.2 балла)** Реализуйте функцию scale(X), которая принимает на вход матрицу и масштабирует каждый ее столбец (вычитает выборочное среднее и делит на стандартное отклонение). Убедитесь, что в функции не будет происходить деления на ноль. Протестируйте на случайной матрице (для её генерации можно использовать, например, функцию [numpy.random.randint](http://docs.scipy.org/doc/numpy/reference/generated/numpy.random.randint.html))."
   ]
  },
  {
   "cell_type": "code",
   "execution_count": 8,
   "metadata": {
    "collapsed": true
   },
   "outputs": [
    {
     "name": "stdout",
     "output_type": "stream",
     "text": [
      "[[1 3 5 8]\n",
      " [4 6 7 0]\n",
      " [4 8 3 9]]\n",
      "[[-1.41421356 -1.29777137  0.          0.57932412]\n",
      " [ 0.70710678  0.16222142  1.22474487 -1.40693001]\n",
      " [ 0.70710678  1.13554995 -1.22474487  0.82760589]]\n"
     ]
    }
   ],
   "source": [
    "def scale(X):\n",
    "    # Your code here\n",
    "     mean = np.mean(X, axis=0)\n",
    "     std = np.std(X, axis=0)\n",
    "     std[std == 0] = 1\n",
    "     X_scaled = (X - mean) / std\n",
    "     return X_scaled\n",
    "X = np.random.randint(0, 10, size=(3, 4))\n",
    "print(X)\n",
    "print(scale(X))"
   ]
  },
  {
   "cell_type": "markdown",
   "metadata": {},
   "source": [
    "**4. (0.2 балла)** Реализуйте функцию, которая для заданной матрицы находит:\n",
    " - определитель\n",
    " - след\n",
    " - наименьший и наибольший элементы\n",
    " - норму Фробениуса\n",
    " - собственные числа\n",
    " - обратную матрицу\n",
    "\n",
    "Для тестирования сгенерируйте матрицу с элементами из нормального распределения $\\mathcal{N}$(10,1)"
   ]
  },
  {
   "cell_type": "code",
   "execution_count": 9,
   "metadata": {},
   "outputs": [
    {
     "data": {
      "text/plain": [
       "{'det': np.float64(0.7818319812364621),\n",
       " 'trace': np.float64(33.528391484324075),\n",
       " 'min': np.float64(9.02272212012359),\n",
       " 'max': np.float64(12.240893199201459),\n",
       " 'norm': np.float64(32.46572464904387),\n",
       " 'eigenvalues': array([3.23834750e+01, 2.14904498e-02, 1.12342601e+00]),\n",
       " 'inverse': array([[ 36.5667531 ,   6.6479615 , -46.62521112],\n",
       "        [-28.58137887,  -4.85001924,  36.12769045],\n",
       "        [-12.01616837,  -2.52907069,  15.73657777]])}"
      ]
     },
     "execution_count": 9,
     "metadata": {},
     "output_type": "execute_result"
    }
   ],
   "source": [
    "def get_stats(X):\n",
    "    det = np.linalg.det(X) # определитель\n",
    "    trace = np.trace(X) # след\n",
    "    min_el = np.min(X) # наименьший и наибольший элементы\n",
    "    max_el = np.max(X)\n",
    "    norm = np.linalg.norm(X) # Фробениус\n",
    "    eigvals = np.linalg.eigvals(X) # соб ч\n",
    "    inv = np.linalg.inv(X) if np.linalg.det(X) != 0 else None\n",
    "    \n",
    "    return { \n",
    "        'det': det,\n",
    "        'trace': trace,\n",
    "        'min': min_el,\n",
    "        'max': max_el,\n",
    "        'norm': norm,\n",
    "        'eigenvalues': eigvals,\n",
    "        'inverse': inv\n",
    "        }\n",
    "np.random.seed(0)\n",
    "X = np.random.normal(10, 1, size=(3, 3))\n",
    "get_stats(X)"
   ]
  },
  {
   "cell_type": "markdown",
   "metadata": {},
   "source": [
    "**5. (0.2 балла)** Повторите 100 раз следующий эксперимент: сгенерируйте две матрицы размера 10×10 из стандартного нормального распределения, перемножьте их (как матрицы) и найдите максимальный элемент. Какое среднее значение по экспериментам у максимальных элементов? 95-процентная квантиль?"
   ]
  },
  {
   "cell_type": "code",
   "execution_count": 10,
   "metadata": {
    "collapsed": true
   },
   "outputs": [
    {
     "name": "stdout",
     "output_type": "stream",
     "text": [
      "6.59075174126482\n",
      "6.59075174126482\n"
     ]
    }
   ],
   "source": [
    "for exp_num in range(100):\n",
    "    # Your code here\n",
    "    max_values = [] \n",
    "    A = np.random.randn(10, 10)  \n",
    "    B = np.random.randn(10, 10)  \n",
    "    C = A @ B \n",
    "    max_values.append(np.max(C))\n",
    "\n",
    "mean_val = np.mean(max_values)\n",
    "q = np.quantile(max_values, 0.95)\n",
    "\n",
    "print(mean_val)\n",
    "print(q)"
   ]
  },
  {
   "cell_type": "markdown",
   "metadata": {},
   "source": [
    "### Pandas\n",
    "\n",
    "![](https://metrouk2.files.wordpress.com/2015/10/panda.jpg)\n",
    "\n",
    "#### Ответьте на вопросы о данных по авиарейсам в США за январь-апрель 2008 года.\n",
    "\n",
    "Данные находятся в приложенном файле `2008.csv`. Их [описание](http://stat-computing.org/dataexpo/2009/the-data.html) приведено ниже:"
   ]
  },
  {
   "cell_type": "markdown",
   "metadata": {},
   "source": [
    "Airline on-time performance\n",
    "\n",
    "Have you ever been stuck in an airport because your flight was delayed or cancelled and wondered if you could have predicted it if you'd had more data? This is your chance to find out.\n",
    "\n",
    "The data\n",
    "The data set is available for download here.\n",
    "The data consists of flight arrival and departure details for all commercial flights within the USA, from October 1987 to April 2008. This is a large dataset: there are nearly 120 million records in total, and takes up 1.6 gigabytes of space compressed and 12 gigabytes when uncompressed.\n",
    "\n",
    "Understanding and preparing the data\n",
    "In order to answer above questions, we are going to analyze the provided dataset, containing up to 1936758 ### different internal flights in the US for 2008 and their causes for delay, diversion and cancellation\n",
    "\n",
    "The data comes from the U.S. Department of Transportation’s (DOT) Bureau of Transportation Statistics (BTS). Meta data explanations\n",
    "\n",
    "This dataset is composed by the following variables:\n",
    "\n",
    "**Year** 2008 **Month** 1-12 **DayofMonth** 1-31 **DayOfWeek** 1 (Monday) - 7 (Sunday)  \n",
    "**DepTime** actual departure time (local, hhmm)  \n",
    "**CRSDepTime** scheduled departure time (local, hhmm)  \n",
    "**ArrTime** actual arrival time (local, hhmm)  \n",
    "**CRSArrTime** scheduled arrival time (local, hhmm)  \n",
    "**UniqueCarrier** unique carrier code  \n",
    "**FlightNum** flight number  \n",
    "**TailNum** plane tail number: aircraft registration, unique aircraft identifier  \n",
    "**ActualElapsedTime** in minutes  \n",
    "**CRSElapsedTime** in minutes  \n",
    "**AirTime** in minutes  \n",
    "**ArrDelay** arrival delay, in minutes: A flight is counted as “on time” if it operated less than 15 minutes later the scheduled time shown in the carriers’ Computerized Reservations Systems (CRS).  \n",
    "**DepDelay** departure delay, in minutes  \n",
    "**Origin** origin IATA airport code  \n",
    "**Dest** destination IATA airport code  \n",
    "**Distance** in miles  \n",
    "**TaxiIn** taxi in time, in minutes  \n",
    "**TaxiOut** taxi out time in minutes  \n",
    "**Cancelled** *was the flight cancelled  \n",
    "**CancellationCode** reason for cancellation (A = carrier, B = weather, C = NAS, D = security)  \n",
    "**Diverted** 1 = yes, 0 = no  \n",
    "**CarrierDelay** in minutes: Carrier delay is within the control of the air carrier. Examples of occurrences that may determine carrier delay are: aircraft cleaning, aircraft damage, awaiting the arrival of connecting passengers or crew, baggage, bird strike, cargo loading, catering, computer, outage-carrier equipment, crew legality (pilot or attendant rest), damage by hazardous goods, engineering inspection, fueling, handling disabled passengers, late crew, lavatory servicing, maintenance, oversales, potable water servicing, removal of unruly passenger, slow boarding or seating, stowing carry-on baggage, weight and balance delays.  \n",
    "**WeatherDelay** in minutes: Weather delay is caused by extreme or hazardous weather conditions that are forecasted or manifest themselves on point of departure, enroute, or on point of arrival.  \n",
    "**NASDelay** in minutes: Delay that is within the control of the National Airspace System (NAS) may include: non-extreme weather conditions, airport operations, heavy traffic volume, air traffic control, etc.  \n",
    "**SecurityDelay** in minutes: Security delay is caused by evacuation of a terminal or concourse, re-boarding of aircraft because of security breach, inoperative screening equipment and/or long lines in excess of 29 minutes at screening areas.  \n",
    "**LateAircraftDelay** in minutes: Arrival delay at an airport due to the late arrival of the same aircraft at a previous airport. The ripple effect of an earlier delay at downstream airports is referred to as delay propagation."
   ]
  },
  {
   "cell_type": "code",
   "execution_count": 11,
   "metadata": {},
   "outputs": [],
   "source": [
    "import pandas as pd\n"
   ]
  },
  {
   "cell_type": "code",
   "execution_count": 12,
   "metadata": {},
   "outputs": [
    {
     "data": {
      "text/html": [
       "<div>\n",
       "<style scoped>\n",
       "    .dataframe tbody tr th:only-of-type {\n",
       "        vertical-align: middle;\n",
       "    }\n",
       "\n",
       "    .dataframe tbody tr th {\n",
       "        vertical-align: top;\n",
       "    }\n",
       "\n",
       "    .dataframe thead th {\n",
       "        text-align: right;\n",
       "    }\n",
       "</style>\n",
       "<table border=\"1\" class=\"dataframe\">\n",
       "  <thead>\n",
       "    <tr style=\"text-align: right;\">\n",
       "      <th></th>\n",
       "      <th>Year</th>\n",
       "      <th>Month</th>\n",
       "      <th>DayofMonth</th>\n",
       "      <th>DayOfWeek</th>\n",
       "      <th>DepTime</th>\n",
       "      <th>CRSDepTime</th>\n",
       "      <th>ArrTime</th>\n",
       "      <th>CRSArrTime</th>\n",
       "      <th>UniqueCarrier</th>\n",
       "      <th>FlightNum</th>\n",
       "      <th>...</th>\n",
       "      <th>TaxiIn</th>\n",
       "      <th>TaxiOut</th>\n",
       "      <th>Cancelled</th>\n",
       "      <th>CancellationCode</th>\n",
       "      <th>Diverted</th>\n",
       "      <th>CarrierDelay</th>\n",
       "      <th>WeatherDelay</th>\n",
       "      <th>NASDelay</th>\n",
       "      <th>SecurityDelay</th>\n",
       "      <th>LateAircraftDelay</th>\n",
       "    </tr>\n",
       "  </thead>\n",
       "  <tbody>\n",
       "    <tr>\n",
       "      <th>0</th>\n",
       "      <td>2008</td>\n",
       "      <td>6</td>\n",
       "      <td>18</td>\n",
       "      <td>3</td>\n",
       "      <td>2111.0</td>\n",
       "      <td>2055</td>\n",
       "      <td>2308.0</td>\n",
       "      <td>2300</td>\n",
       "      <td>WN</td>\n",
       "      <td>242</td>\n",
       "      <td>...</td>\n",
       "      <td>3.0</td>\n",
       "      <td>8.0</td>\n",
       "      <td>0</td>\n",
       "      <td>NaN</td>\n",
       "      <td>0</td>\n",
       "      <td>NaN</td>\n",
       "      <td>NaN</td>\n",
       "      <td>NaN</td>\n",
       "      <td>NaN</td>\n",
       "      <td>NaN</td>\n",
       "    </tr>\n",
       "    <tr>\n",
       "      <th>1</th>\n",
       "      <td>2008</td>\n",
       "      <td>6</td>\n",
       "      <td>4</td>\n",
       "      <td>3</td>\n",
       "      <td>1426.0</td>\n",
       "      <td>1410</td>\n",
       "      <td>1730.0</td>\n",
       "      <td>1728</td>\n",
       "      <td>XE</td>\n",
       "      <td>2380</td>\n",
       "      <td>...</td>\n",
       "      <td>4.0</td>\n",
       "      <td>12.0</td>\n",
       "      <td>0</td>\n",
       "      <td>NaN</td>\n",
       "      <td>0</td>\n",
       "      <td>NaN</td>\n",
       "      <td>NaN</td>\n",
       "      <td>NaN</td>\n",
       "      <td>NaN</td>\n",
       "      <td>NaN</td>\n",
       "    </tr>\n",
       "    <tr>\n",
       "      <th>2</th>\n",
       "      <td>2008</td>\n",
       "      <td>8</td>\n",
       "      <td>3</td>\n",
       "      <td>7</td>\n",
       "      <td>1143.0</td>\n",
       "      <td>1145</td>\n",
       "      <td>1501.0</td>\n",
       "      <td>1520</td>\n",
       "      <td>WN</td>\n",
       "      <td>1769</td>\n",
       "      <td>...</td>\n",
       "      <td>4.0</td>\n",
       "      <td>9.0</td>\n",
       "      <td>0</td>\n",
       "      <td>NaN</td>\n",
       "      <td>0</td>\n",
       "      <td>NaN</td>\n",
       "      <td>NaN</td>\n",
       "      <td>NaN</td>\n",
       "      <td>NaN</td>\n",
       "      <td>NaN</td>\n",
       "    </tr>\n",
       "    <tr>\n",
       "      <th>3</th>\n",
       "      <td>2008</td>\n",
       "      <td>1</td>\n",
       "      <td>23</td>\n",
       "      <td>3</td>\n",
       "      <td>1141.0</td>\n",
       "      <td>1144</td>\n",
       "      <td>1323.0</td>\n",
       "      <td>1335</td>\n",
       "      <td>OO</td>\n",
       "      <td>3802</td>\n",
       "      <td>...</td>\n",
       "      <td>4.0</td>\n",
       "      <td>19.0</td>\n",
       "      <td>0</td>\n",
       "      <td>NaN</td>\n",
       "      <td>0</td>\n",
       "      <td>NaN</td>\n",
       "      <td>NaN</td>\n",
       "      <td>NaN</td>\n",
       "      <td>NaN</td>\n",
       "      <td>NaN</td>\n",
       "    </tr>\n",
       "    <tr>\n",
       "      <th>4</th>\n",
       "      <td>2008</td>\n",
       "      <td>5</td>\n",
       "      <td>4</td>\n",
       "      <td>7</td>\n",
       "      <td>815.0</td>\n",
       "      <td>820</td>\n",
       "      <td>1243.0</td>\n",
       "      <td>1300</td>\n",
       "      <td>WN</td>\n",
       "      <td>399</td>\n",
       "      <td>...</td>\n",
       "      <td>4.0</td>\n",
       "      <td>8.0</td>\n",
       "      <td>0</td>\n",
       "      <td>NaN</td>\n",
       "      <td>0</td>\n",
       "      <td>NaN</td>\n",
       "      <td>NaN</td>\n",
       "      <td>NaN</td>\n",
       "      <td>NaN</td>\n",
       "      <td>NaN</td>\n",
       "    </tr>\n",
       "    <tr>\n",
       "      <th>...</th>\n",
       "      <td>...</td>\n",
       "      <td>...</td>\n",
       "      <td>...</td>\n",
       "      <td>...</td>\n",
       "      <td>...</td>\n",
       "      <td>...</td>\n",
       "      <td>...</td>\n",
       "      <td>...</td>\n",
       "      <td>...</td>\n",
       "      <td>...</td>\n",
       "      <td>...</td>\n",
       "      <td>...</td>\n",
       "      <td>...</td>\n",
       "      <td>...</td>\n",
       "      <td>...</td>\n",
       "      <td>...</td>\n",
       "      <td>...</td>\n",
       "      <td>...</td>\n",
       "      <td>...</td>\n",
       "      <td>...</td>\n",
       "      <td>...</td>\n",
       "    </tr>\n",
       "    <tr>\n",
       "      <th>69995</th>\n",
       "      <td>2008</td>\n",
       "      <td>5</td>\n",
       "      <td>12</td>\n",
       "      <td>1</td>\n",
       "      <td>1829.0</td>\n",
       "      <td>1840</td>\n",
       "      <td>2137.0</td>\n",
       "      <td>2149</td>\n",
       "      <td>DL</td>\n",
       "      <td>794</td>\n",
       "      <td>...</td>\n",
       "      <td>22.0</td>\n",
       "      <td>20.0</td>\n",
       "      <td>0</td>\n",
       "      <td>NaN</td>\n",
       "      <td>0</td>\n",
       "      <td>NaN</td>\n",
       "      <td>NaN</td>\n",
       "      <td>NaN</td>\n",
       "      <td>NaN</td>\n",
       "      <td>NaN</td>\n",
       "    </tr>\n",
       "    <tr>\n",
       "      <th>69996</th>\n",
       "      <td>2008</td>\n",
       "      <td>5</td>\n",
       "      <td>11</td>\n",
       "      <td>7</td>\n",
       "      <td>1149.0</td>\n",
       "      <td>1125</td>\n",
       "      <td>1336.0</td>\n",
       "      <td>1314</td>\n",
       "      <td>OO</td>\n",
       "      <td>6159</td>\n",
       "      <td>...</td>\n",
       "      <td>4.0</td>\n",
       "      <td>13.0</td>\n",
       "      <td>0</td>\n",
       "      <td>NaN</td>\n",
       "      <td>0</td>\n",
       "      <td>0.0</td>\n",
       "      <td>0.0</td>\n",
       "      <td>0.0</td>\n",
       "      <td>0.0</td>\n",
       "      <td>22.0</td>\n",
       "    </tr>\n",
       "    <tr>\n",
       "      <th>69997</th>\n",
       "      <td>2008</td>\n",
       "      <td>9</td>\n",
       "      <td>24</td>\n",
       "      <td>3</td>\n",
       "      <td>1012.0</td>\n",
       "      <td>1012</td>\n",
       "      <td>1132.0</td>\n",
       "      <td>1132</td>\n",
       "      <td>YV</td>\n",
       "      <td>7058</td>\n",
       "      <td>...</td>\n",
       "      <td>7.0</td>\n",
       "      <td>10.0</td>\n",
       "      <td>0</td>\n",
       "      <td>NaN</td>\n",
       "      <td>0</td>\n",
       "      <td>NaN</td>\n",
       "      <td>NaN</td>\n",
       "      <td>NaN</td>\n",
       "      <td>NaN</td>\n",
       "      <td>NaN</td>\n",
       "    </tr>\n",
       "    <tr>\n",
       "      <th>69998</th>\n",
       "      <td>2008</td>\n",
       "      <td>2</td>\n",
       "      <td>18</td>\n",
       "      <td>1</td>\n",
       "      <td>1906.0</td>\n",
       "      <td>1900</td>\n",
       "      <td>2200.0</td>\n",
       "      <td>2139</td>\n",
       "      <td>NW</td>\n",
       "      <td>641</td>\n",
       "      <td>...</td>\n",
       "      <td>20.0</td>\n",
       "      <td>22.0</td>\n",
       "      <td>0</td>\n",
       "      <td>NaN</td>\n",
       "      <td>0</td>\n",
       "      <td>0.0</td>\n",
       "      <td>0.0</td>\n",
       "      <td>15.0</td>\n",
       "      <td>0.0</td>\n",
       "      <td>6.0</td>\n",
       "    </tr>\n",
       "    <tr>\n",
       "      <th>69999</th>\n",
       "      <td>2008</td>\n",
       "      <td>12</td>\n",
       "      <td>6</td>\n",
       "      <td>6</td>\n",
       "      <td>859.0</td>\n",
       "      <td>900</td>\n",
       "      <td>959.0</td>\n",
       "      <td>1005</td>\n",
       "      <td>WN</td>\n",
       "      <td>510</td>\n",
       "      <td>...</td>\n",
       "      <td>2.0</td>\n",
       "      <td>12.0</td>\n",
       "      <td>0</td>\n",
       "      <td>NaN</td>\n",
       "      <td>0</td>\n",
       "      <td>NaN</td>\n",
       "      <td>NaN</td>\n",
       "      <td>NaN</td>\n",
       "      <td>NaN</td>\n",
       "      <td>NaN</td>\n",
       "    </tr>\n",
       "  </tbody>\n",
       "</table>\n",
       "<p>70000 rows × 29 columns</p>\n",
       "</div>"
      ],
      "text/plain": [
       "       Year  Month  DayofMonth  DayOfWeek  DepTime  CRSDepTime  ArrTime  \\\n",
       "0      2008      6          18          3   2111.0        2055   2308.0   \n",
       "1      2008      6           4          3   1426.0        1410   1730.0   \n",
       "2      2008      8           3          7   1143.0        1145   1501.0   \n",
       "3      2008      1          23          3   1141.0        1144   1323.0   \n",
       "4      2008      5           4          7    815.0         820   1243.0   \n",
       "...     ...    ...         ...        ...      ...         ...      ...   \n",
       "69995  2008      5          12          1   1829.0        1840   2137.0   \n",
       "69996  2008      5          11          7   1149.0        1125   1336.0   \n",
       "69997  2008      9          24          3   1012.0        1012   1132.0   \n",
       "69998  2008      2          18          1   1906.0        1900   2200.0   \n",
       "69999  2008     12           6          6    859.0         900    959.0   \n",
       "\n",
       "       CRSArrTime UniqueCarrier  FlightNum  ... TaxiIn  TaxiOut  Cancelled  \\\n",
       "0            2300            WN        242  ...    3.0      8.0          0   \n",
       "1            1728            XE       2380  ...    4.0     12.0          0   \n",
       "2            1520            WN       1769  ...    4.0      9.0          0   \n",
       "3            1335            OO       3802  ...    4.0     19.0          0   \n",
       "4            1300            WN        399  ...    4.0      8.0          0   \n",
       "...           ...           ...        ...  ...    ...      ...        ...   \n",
       "69995        2149            DL        794  ...   22.0     20.0          0   \n",
       "69996        1314            OO       6159  ...    4.0     13.0          0   \n",
       "69997        1132            YV       7058  ...    7.0     10.0          0   \n",
       "69998        2139            NW        641  ...   20.0     22.0          0   \n",
       "69999        1005            WN        510  ...    2.0     12.0          0   \n",
       "\n",
       "       CancellationCode  Diverted  CarrierDelay WeatherDelay NASDelay  \\\n",
       "0                   NaN         0           NaN          NaN      NaN   \n",
       "1                   NaN         0           NaN          NaN      NaN   \n",
       "2                   NaN         0           NaN          NaN      NaN   \n",
       "3                   NaN         0           NaN          NaN      NaN   \n",
       "4                   NaN         0           NaN          NaN      NaN   \n",
       "...                 ...       ...           ...          ...      ...   \n",
       "69995               NaN         0           NaN          NaN      NaN   \n",
       "69996               NaN         0           0.0          0.0      0.0   \n",
       "69997               NaN         0           NaN          NaN      NaN   \n",
       "69998               NaN         0           0.0          0.0     15.0   \n",
       "69999               NaN         0           NaN          NaN      NaN   \n",
       "\n",
       "       SecurityDelay  LateAircraftDelay  \n",
       "0                NaN                NaN  \n",
       "1                NaN                NaN  \n",
       "2                NaN                NaN  \n",
       "3                NaN                NaN  \n",
       "4                NaN                NaN  \n",
       "...              ...                ...  \n",
       "69995            NaN                NaN  \n",
       "69996            0.0               22.0  \n",
       "69997            NaN                NaN  \n",
       "69998            0.0                6.0  \n",
       "69999            NaN                NaN  \n",
       "\n",
       "[70000 rows x 29 columns]"
      ]
     },
     "execution_count": 12,
     "metadata": {},
     "output_type": "execute_result"
    }
   ],
   "source": [
    "df = pd.read_csv(\"2008.csv\")\n",
    "df"
   ]
  },
  {
   "cell_type": "markdown",
   "metadata": {},
   "source": [
    "**6. (0.3 балла)** Какая из причин отмены рейса (`CancellationCode`) была самой частой? (расшифровки кодов можно найти в описании данных)"
   ]
  },
  {
   "cell_type": "code",
   "execution_count": 13,
   "metadata": {},
   "outputs": [
    {
     "data": {
      "text/plain": [
       "'A'"
      ]
     },
     "execution_count": 13,
     "metadata": {},
     "output_type": "execute_result"
    }
   ],
   "source": [
    "# Your code here\n",
    "counts = df[\"CancellationCode\"].value_counts()\n",
    "most_common = counts.idxmax()\n",
    "\n",
    "most_common"
   ]
  },
  {
   "cell_type": "markdown",
   "metadata": {},
   "source": [
    "**7. (0.3 балла)** Найдите среднее, минимальное и максимальное расстояние, пройденное самолетом."
   ]
  },
  {
   "cell_type": "code",
   "execution_count": 14,
   "metadata": {
    "collapsed": true
   },
   "outputs": [
    {
     "data": {
      "text/plain": [
       "(np.float64(724.5082571428571), np.int64(31), np.int64(4962))"
      ]
     },
     "execution_count": 14,
     "metadata": {},
     "output_type": "execute_result"
    }
   ],
   "source": [
    "# Your code here\n",
    "mean = df[\"Distance\"].mean()\n",
    "min = df[\"Distance\"].min()\n",
    "max = df[\"Distance\"].max()\n",
    "mean, min, max"
   ]
  },
  {
   "cell_type": "markdown",
   "metadata": {},
   "source": [
    "**8. (0.3 балла)** Не выглядит ли подозрительным минимальное пройденное расстояние? В какие дни и на каких рейсах оно было? Какое расстояние было пройдено этими же рейсами в другие дни?"
   ]
  },
  {
   "cell_type": "code",
   "execution_count": 15,
   "metadata": {
    "collapsed": true
   },
   "outputs": [
    {
     "data": {
      "text/plain": [
       "np.int64(31)"
      ]
     },
     "execution_count": 15,
     "metadata": {},
     "output_type": "execute_result"
    }
   ],
   "source": [
    "# Your code here\n",
    "min = df[\"Distance\"].min()\n",
    "min"
   ]
  },
  {
   "cell_type": "code",
   "execution_count": 16,
   "metadata": {},
   "outputs": [
    {
     "name": "stdout",
     "output_type": "stream",
     "text": [
      "       Year  Month  DayofMonth  FlightNum  Distance\n",
      "1116   2008     12          30         65        31\n",
      "6958   2008     12          26         65        31\n",
      "17349  2008      8          18         64        31\n",
      "27534  2008      3          11         64        31\n",
      "46082  2008      8           9         65        31\n",
      "48112  2008      2          28         64        31\n"
     ]
    }
   ],
   "source": [
    "min_flight = df[df[\"Distance\"] == min]\n",
    "print(min_flight[[\"Year\", \"Month\", \"DayofMonth\", \"FlightNum\", \"Distance\"]])"
   ]
  },
  {
   "cell_type": "code",
   "execution_count": 17,
   "metadata": {},
   "outputs": [
    {
     "name": "stdout",
     "output_type": "stream",
     "text": [
      "501       533\n",
      "1389      680\n",
      "1517      680\n",
      "2619     2381\n",
      "3869       82\n",
      "         ... \n",
      "66529      82\n",
      "67172     533\n",
      "68264     386\n",
      "68338    2454\n",
      "69305    1005\n",
      "Name: Distance, Length: 72, dtype: int64\n"
     ]
    }
   ],
   "source": [
    "flight_num = min_flight[\"FlightNum\"].unique()\n",
    "od = df[(df[\"FlightNum\"].isin(flight_num)) & (df[\"Distance\"] != min)]\n",
    "print(od[\"Distance\"])"
   ]
  },
  {
   "cell_type": "markdown",
   "metadata": {},
   "source": [
    "**9. (0.3 балла)** Из какого аэропорта было произведено больше всего вылетов? В каком городе он находится?"
   ]
  },
  {
   "cell_type": "code",
   "execution_count": 18,
   "metadata": {
    "collapsed": true
   },
   "outputs": [
    {
     "data": {
      "text/plain": [
       "'ATL'"
      ]
     },
     "execution_count": 18,
     "metadata": {},
     "output_type": "execute_result"
    }
   ],
   "source": [
    "# Your code here\n",
    "origin = df[\"Origin\"].value_counts()\n",
    "airport = origin.idxmax()\n",
    "\n",
    "airport"
   ]
  },
  {
   "cell_type": "markdown",
   "metadata": {},
   "source": [
    "**10. (0.3 балла)** Найдите для каждого аэропорта среднее время полета (`AirTime`) по всем вылетевшим из него рейсам. Какой аэропорт имеет наибольшее значение этого показателя?"
   ]
  },
  {
   "cell_type": "code",
   "execution_count": 19,
   "metadata": {
    "collapsed": true
   },
   "outputs": [
    {
     "data": {
      "text/plain": [
       "Origin\n",
       "ABE    88.266667\n",
       "ABI    36.400000\n",
       "ABQ    93.454321\n",
       "ABY    35.714286\n",
       "ACK    50.800000\n",
       "         ...    \n",
       "WRG    18.000000\n",
       "XNA    85.945736\n",
       "YAK    35.900000\n",
       "YKM    79.000000\n",
       "YUM    47.470588\n",
       "Name: AirTime, Length: 297, dtype: float64"
      ]
     },
     "execution_count": 19,
     "metadata": {},
     "output_type": "execute_result"
    }
   ],
   "source": [
    "# Your code here\n",
    "Time = df.groupby(\"Origin\")[\"AirTime\"].mean()\n",
    "Time"
   ]
  },
  {
   "cell_type": "code",
   "execution_count": 20,
   "metadata": {},
   "outputs": [
    {
     "data": {
      "text/plain": [
       "(np.float64(205.2), 'SJU')"
      ]
     },
     "execution_count": 20,
     "metadata": {},
     "output_type": "execute_result"
    }
   ],
   "source": [
    "A = Time.idxmax()\n",
    "L = Time.max()\n",
    "L, A"
   ]
  },
  {
   "cell_type": "markdown",
   "metadata": {},
   "source": [
    "**11. (0.5 балла)** Найдите аэропорт, у которого наибольшая доля задержанных (`DepDelay > 0`) рейсов. Исключите при этом из рассмотрения аэропорты, из которых было отправлено меньше 1000 рейсов (используйте функцию `filter` после `groupby`)."
   ]
  },
  {
   "cell_type": "code",
   "execution_count": 21,
   "metadata": {},
   "outputs": [],
   "source": [
    "# Your code here\n",
    "df[\"Delayed\"] = df[\"DepDelay\"] > 0\n",
    "flight_counts = df.groupby(\"Origin\").size()"
   ]
  },
  {
   "cell_type": "code",
   "execution_count": 22,
   "metadata": {},
   "outputs": [],
   "source": [
    "delay = df.groupby(\"Origin\")[\"Delayed\"].mean()\n",
    "delay = delay[flight_counts >= 1000]"
   ]
  },
  {
   "cell_type": "code",
   "execution_count": 23,
   "metadata": {},
   "outputs": [
    {
     "data": {
      "text/plain": [
       "('EWR', np.float64(0.5111591072714183))"
      ]
     },
     "execution_count": 23,
     "metadata": {},
     "output_type": "execute_result"
    }
   ],
   "source": [
    "airport = delay.idxmax()\n",
    "ratio = delay.max()\n",
    "airport, ratio"
   ]
  },
  {
   "cell_type": "markdown",
   "metadata": {},
   "source": [
    "## Линейная регрессия\n",
    "\n",
    "В этой части мы разберемся с линейной регрессией, способами её обучения и измерением качества ее прогнозов. \n",
    "\n",
    "Будем рассматривать датасет из предыдущей части задания для предсказания времени задержки отправления рейса в минутах (DepDelay). Отметим, что под задержкой подразумевается не только опоздание рейса относительно планируемого времени вылета, но и отправление до планируемого времени.\n",
    "\n",
    "### Подготовка данных\n",
    "\n",
    "**12. (0.5 балла)** Считайте выборку из файла при помощи функции pd.read_csv и ответьте на следующие вопросы:\n",
    "   - Имеются ли в данных пропущенные значения?\n",
    "   - Сколько всего пропущенных элементов в таблице \"объект-признак\"?\n",
    "   - Сколько объектов имеют хотя бы один пропуск?\n",
    "   - Сколько признаков имеют хотя бы одно пропущенное значение?"
   ]
  },
  {
   "cell_type": "code",
   "execution_count": 24,
   "metadata": {},
   "outputs": [],
   "source": [
    "import pandas as pd\n",
    "import matplotlib.pyplot as plt\n",
    "import seaborn as sns\n",
    "import numpy as np\n",
    "import warnings"
   ]
  },
  {
   "cell_type": "code",
   "execution_count": 25,
   "metadata": {
    "scrolled": true
   },
   "outputs": [
    {
     "data": {
      "text/html": [
       "<div>\n",
       "<style scoped>\n",
       "    .dataframe tbody tr th:only-of-type {\n",
       "        vertical-align: middle;\n",
       "    }\n",
       "\n",
       "    .dataframe tbody tr th {\n",
       "        vertical-align: top;\n",
       "    }\n",
       "\n",
       "    .dataframe thead th {\n",
       "        text-align: right;\n",
       "    }\n",
       "</style>\n",
       "<table border=\"1\" class=\"dataframe\">\n",
       "  <thead>\n",
       "    <tr style=\"text-align: right;\">\n",
       "      <th></th>\n",
       "      <th>Year</th>\n",
       "      <th>Month</th>\n",
       "      <th>DayofMonth</th>\n",
       "      <th>DayOfWeek</th>\n",
       "      <th>DepTime</th>\n",
       "      <th>CRSDepTime</th>\n",
       "      <th>ArrTime</th>\n",
       "      <th>CRSArrTime</th>\n",
       "      <th>UniqueCarrier</th>\n",
       "      <th>FlightNum</th>\n",
       "      <th>...</th>\n",
       "      <th>TaxiIn</th>\n",
       "      <th>TaxiOut</th>\n",
       "      <th>Cancelled</th>\n",
       "      <th>CancellationCode</th>\n",
       "      <th>Diverted</th>\n",
       "      <th>CarrierDelay</th>\n",
       "      <th>WeatherDelay</th>\n",
       "      <th>NASDelay</th>\n",
       "      <th>SecurityDelay</th>\n",
       "      <th>LateAircraftDelay</th>\n",
       "    </tr>\n",
       "  </thead>\n",
       "  <tbody>\n",
       "    <tr>\n",
       "      <th>0</th>\n",
       "      <td>2008</td>\n",
       "      <td>6</td>\n",
       "      <td>18</td>\n",
       "      <td>3</td>\n",
       "      <td>2111.0</td>\n",
       "      <td>2055</td>\n",
       "      <td>2308.0</td>\n",
       "      <td>2300</td>\n",
       "      <td>WN</td>\n",
       "      <td>242</td>\n",
       "      <td>...</td>\n",
       "      <td>3.0</td>\n",
       "      <td>8.0</td>\n",
       "      <td>0</td>\n",
       "      <td>NaN</td>\n",
       "      <td>0</td>\n",
       "      <td>NaN</td>\n",
       "      <td>NaN</td>\n",
       "      <td>NaN</td>\n",
       "      <td>NaN</td>\n",
       "      <td>NaN</td>\n",
       "    </tr>\n",
       "    <tr>\n",
       "      <th>1</th>\n",
       "      <td>2008</td>\n",
       "      <td>6</td>\n",
       "      <td>4</td>\n",
       "      <td>3</td>\n",
       "      <td>1426.0</td>\n",
       "      <td>1410</td>\n",
       "      <td>1730.0</td>\n",
       "      <td>1728</td>\n",
       "      <td>XE</td>\n",
       "      <td>2380</td>\n",
       "      <td>...</td>\n",
       "      <td>4.0</td>\n",
       "      <td>12.0</td>\n",
       "      <td>0</td>\n",
       "      <td>NaN</td>\n",
       "      <td>0</td>\n",
       "      <td>NaN</td>\n",
       "      <td>NaN</td>\n",
       "      <td>NaN</td>\n",
       "      <td>NaN</td>\n",
       "      <td>NaN</td>\n",
       "    </tr>\n",
       "    <tr>\n",
       "      <th>2</th>\n",
       "      <td>2008</td>\n",
       "      <td>8</td>\n",
       "      <td>3</td>\n",
       "      <td>7</td>\n",
       "      <td>1143.0</td>\n",
       "      <td>1145</td>\n",
       "      <td>1501.0</td>\n",
       "      <td>1520</td>\n",
       "      <td>WN</td>\n",
       "      <td>1769</td>\n",
       "      <td>...</td>\n",
       "      <td>4.0</td>\n",
       "      <td>9.0</td>\n",
       "      <td>0</td>\n",
       "      <td>NaN</td>\n",
       "      <td>0</td>\n",
       "      <td>NaN</td>\n",
       "      <td>NaN</td>\n",
       "      <td>NaN</td>\n",
       "      <td>NaN</td>\n",
       "      <td>NaN</td>\n",
       "    </tr>\n",
       "    <tr>\n",
       "      <th>3</th>\n",
       "      <td>2008</td>\n",
       "      <td>1</td>\n",
       "      <td>23</td>\n",
       "      <td>3</td>\n",
       "      <td>1141.0</td>\n",
       "      <td>1144</td>\n",
       "      <td>1323.0</td>\n",
       "      <td>1335</td>\n",
       "      <td>OO</td>\n",
       "      <td>3802</td>\n",
       "      <td>...</td>\n",
       "      <td>4.0</td>\n",
       "      <td>19.0</td>\n",
       "      <td>0</td>\n",
       "      <td>NaN</td>\n",
       "      <td>0</td>\n",
       "      <td>NaN</td>\n",
       "      <td>NaN</td>\n",
       "      <td>NaN</td>\n",
       "      <td>NaN</td>\n",
       "      <td>NaN</td>\n",
       "    </tr>\n",
       "    <tr>\n",
       "      <th>4</th>\n",
       "      <td>2008</td>\n",
       "      <td>5</td>\n",
       "      <td>4</td>\n",
       "      <td>7</td>\n",
       "      <td>815.0</td>\n",
       "      <td>820</td>\n",
       "      <td>1243.0</td>\n",
       "      <td>1300</td>\n",
       "      <td>WN</td>\n",
       "      <td>399</td>\n",
       "      <td>...</td>\n",
       "      <td>4.0</td>\n",
       "      <td>8.0</td>\n",
       "      <td>0</td>\n",
       "      <td>NaN</td>\n",
       "      <td>0</td>\n",
       "      <td>NaN</td>\n",
       "      <td>NaN</td>\n",
       "      <td>NaN</td>\n",
       "      <td>NaN</td>\n",
       "      <td>NaN</td>\n",
       "    </tr>\n",
       "  </tbody>\n",
       "</table>\n",
       "<p>5 rows × 29 columns</p>\n",
       "</div>"
      ],
      "text/plain": [
       "   Year  Month  DayofMonth  DayOfWeek  DepTime  CRSDepTime  ArrTime  \\\n",
       "0  2008      6          18          3   2111.0        2055   2308.0   \n",
       "1  2008      6           4          3   1426.0        1410   1730.0   \n",
       "2  2008      8           3          7   1143.0        1145   1501.0   \n",
       "3  2008      1          23          3   1141.0        1144   1323.0   \n",
       "4  2008      5           4          7    815.0         820   1243.0   \n",
       "\n",
       "   CRSArrTime UniqueCarrier  FlightNum  ... TaxiIn  TaxiOut  Cancelled  \\\n",
       "0        2300            WN        242  ...    3.0      8.0          0   \n",
       "1        1728            XE       2380  ...    4.0     12.0          0   \n",
       "2        1520            WN       1769  ...    4.0      9.0          0   \n",
       "3        1335            OO       3802  ...    4.0     19.0          0   \n",
       "4        1300            WN        399  ...    4.0      8.0          0   \n",
       "\n",
       "   CancellationCode  Diverted  CarrierDelay WeatherDelay NASDelay  \\\n",
       "0               NaN         0           NaN          NaN      NaN   \n",
       "1               NaN         0           NaN          NaN      NaN   \n",
       "2               NaN         0           NaN          NaN      NaN   \n",
       "3               NaN         0           NaN          NaN      NaN   \n",
       "4               NaN         0           NaN          NaN      NaN   \n",
       "\n",
       "   SecurityDelay  LateAircraftDelay  \n",
       "0            NaN                NaN  \n",
       "1            NaN                NaN  \n",
       "2            NaN                NaN  \n",
       "3            NaN                NaN  \n",
       "4            NaN                NaN  \n",
       "\n",
       "[5 rows x 29 columns]"
      ]
     },
     "execution_count": 25,
     "metadata": {},
     "output_type": "execute_result"
    }
   ],
   "source": [
    "# Your code here\n",
    "df = pd.read_csv(\"2008.csv\")\n",
    "df.head()"
   ]
  },
  {
   "cell_type": "markdown",
   "metadata": {},
   "source": [
    "   - Имеются ли в данных пропущенные значения?"
   ]
  },
  {
   "cell_type": "code",
   "execution_count": 26,
   "metadata": {},
   "outputs": [
    {
     "data": {
      "text/plain": [
       "np.True_"
      ]
     },
     "execution_count": 26,
     "metadata": {},
     "output_type": "execute_result"
    }
   ],
   "source": [
    "df.isnull().values.any()"
   ]
  },
  {
   "cell_type": "markdown",
   "metadata": {},
   "source": [
    "  - Сколько всего пропущенных элементов в таблице \"объект-признак\"?"
   ]
  },
  {
   "cell_type": "code",
   "execution_count": 27,
   "metadata": {},
   "outputs": [
    {
     "data": {
      "text/plain": [
       "np.int64(355215)"
      ]
     },
     "execution_count": 27,
     "metadata": {},
     "output_type": "execute_result"
    }
   ],
   "source": [
    "df.isnull().sum().sum()"
   ]
  },
  {
   "cell_type": "markdown",
   "metadata": {},
   "source": [
    "- Сколько объектов имеют хотя бы один пропуск?"
   ]
  },
  {
   "cell_type": "code",
   "execution_count": 28,
   "metadata": {},
   "outputs": [
    {
     "data": {
      "text/plain": [
       "np.int64(70000)"
      ]
     },
     "execution_count": 28,
     "metadata": {},
     "output_type": "execute_result"
    }
   ],
   "source": [
    "df.isnull().any(axis=1).sum()"
   ]
  },
  {
   "cell_type": "markdown",
   "metadata": {},
   "source": [
    "- Сколько признаков имеют хотя бы одно пропущенное значение?"
   ]
  },
  {
   "cell_type": "code",
   "execution_count": 29,
   "metadata": {},
   "outputs": [
    {
     "data": {
      "text/plain": [
       "np.int64(16)"
      ]
     },
     "execution_count": 29,
     "metadata": {},
     "output_type": "execute_result"
    }
   ],
   "source": [
    "df.isnull().any(axis=0).sum()"
   ]
  },
  {
   "cell_type": "markdown",
   "metadata": {},
   "source": [
    "Как вы понимаете, также не имеет смысла рассматривать при решении поставленной задачи объекты с пропущенным значением целевой переменной. В связи с этим ответьте на следующие вопросы и выполните соответствующие действия:\n",
    "- Имеются ли пропущенные значения в целевой переменной?\n",
    "- Проанализируйте объекты с пропущенными значениями целевой переменной. Чем вызвано это явление? Что их объединяет? Можно ли в связи с этим, на ваш взгляд, исключить какие-то признаки из рассмотрения? Обоснуйте свою точку зрения.\n",
    "\n",
    "Исключите из выборки объекты **с пропущенным значением целевой переменной и со значением целевой переменной, равным 0**, а также при необходимости исключите признаки в соответствии с вашим ответом на последний вопрос из списка и выделите целевую переменную в отдельный вектор, исключив её из матрицы \"объект-признак\"."
   ]
  },
  {
   "cell_type": "markdown",
   "metadata": {},
   "source": [
    "- Имеются ли пропущенные значения в целевой переменной?"
   ]
  },
  {
   "cell_type": "code",
   "execution_count": 30,
   "metadata": {
    "collapsed": true
   },
   "outputs": [
    {
     "data": {
      "text/plain": [
       "np.True_"
      ]
     },
     "execution_count": 30,
     "metadata": {},
     "output_type": "execute_result"
    }
   ],
   "source": [
    "# Your code here\n",
    "df[\"DepDelay\"].isnull().any()"
   ]
  },
  {
   "cell_type": "markdown",
   "metadata": {},
   "source": [
    "- Проанализируйте объекты с пропущенными значениями целевой переменной. "
   ]
  },
  {
   "cell_type": "code",
   "execution_count": 31,
   "metadata": {},
   "outputs": [
    {
     "data": {
      "text/html": [
       "<div>\n",
       "<style scoped>\n",
       "    .dataframe tbody tr th:only-of-type {\n",
       "        vertical-align: middle;\n",
       "    }\n",
       "\n",
       "    .dataframe tbody tr th {\n",
       "        vertical-align: top;\n",
       "    }\n",
       "\n",
       "    .dataframe thead th {\n",
       "        text-align: right;\n",
       "    }\n",
       "</style>\n",
       "<table border=\"1\" class=\"dataframe\">\n",
       "  <thead>\n",
       "    <tr style=\"text-align: right;\">\n",
       "      <th></th>\n",
       "      <th>Year</th>\n",
       "      <th>Month</th>\n",
       "      <th>DayofMonth</th>\n",
       "      <th>DayOfWeek</th>\n",
       "      <th>DepTime</th>\n",
       "      <th>CRSDepTime</th>\n",
       "      <th>ArrTime</th>\n",
       "      <th>CRSArrTime</th>\n",
       "      <th>UniqueCarrier</th>\n",
       "      <th>FlightNum</th>\n",
       "      <th>...</th>\n",
       "      <th>TaxiIn</th>\n",
       "      <th>TaxiOut</th>\n",
       "      <th>Cancelled</th>\n",
       "      <th>CancellationCode</th>\n",
       "      <th>Diverted</th>\n",
       "      <th>CarrierDelay</th>\n",
       "      <th>WeatherDelay</th>\n",
       "      <th>NASDelay</th>\n",
       "      <th>SecurityDelay</th>\n",
       "      <th>LateAircraftDelay</th>\n",
       "    </tr>\n",
       "  </thead>\n",
       "  <tbody>\n",
       "    <tr>\n",
       "      <th>11</th>\n",
       "      <td>2008</td>\n",
       "      <td>3</td>\n",
       "      <td>6</td>\n",
       "      <td>4</td>\n",
       "      <td>NaN</td>\n",
       "      <td>1605</td>\n",
       "      <td>NaN</td>\n",
       "      <td>1940</td>\n",
       "      <td>AA</td>\n",
       "      <td>484</td>\n",
       "      <td>...</td>\n",
       "      <td>NaN</td>\n",
       "      <td>NaN</td>\n",
       "      <td>1</td>\n",
       "      <td>B</td>\n",
       "      <td>0</td>\n",
       "      <td>NaN</td>\n",
       "      <td>NaN</td>\n",
       "      <td>NaN</td>\n",
       "      <td>NaN</td>\n",
       "      <td>NaN</td>\n",
       "    </tr>\n",
       "    <tr>\n",
       "      <th>78</th>\n",
       "      <td>2008</td>\n",
       "      <td>1</td>\n",
       "      <td>19</td>\n",
       "      <td>6</td>\n",
       "      <td>NaN</td>\n",
       "      <td>750</td>\n",
       "      <td>NaN</td>\n",
       "      <td>930</td>\n",
       "      <td>EV</td>\n",
       "      <td>4772</td>\n",
       "      <td>...</td>\n",
       "      <td>NaN</td>\n",
       "      <td>NaN</td>\n",
       "      <td>1</td>\n",
       "      <td>B</td>\n",
       "      <td>0</td>\n",
       "      <td>NaN</td>\n",
       "      <td>NaN</td>\n",
       "      <td>NaN</td>\n",
       "      <td>NaN</td>\n",
       "      <td>NaN</td>\n",
       "    </tr>\n",
       "    <tr>\n",
       "      <th>103</th>\n",
       "      <td>2008</td>\n",
       "      <td>7</td>\n",
       "      <td>24</td>\n",
       "      <td>4</td>\n",
       "      <td>NaN</td>\n",
       "      <td>1230</td>\n",
       "      <td>NaN</td>\n",
       "      <td>1355</td>\n",
       "      <td>FL</td>\n",
       "      <td>816</td>\n",
       "      <td>...</td>\n",
       "      <td>NaN</td>\n",
       "      <td>NaN</td>\n",
       "      <td>1</td>\n",
       "      <td>A</td>\n",
       "      <td>0</td>\n",
       "      <td>NaN</td>\n",
       "      <td>NaN</td>\n",
       "      <td>NaN</td>\n",
       "      <td>NaN</td>\n",
       "      <td>NaN</td>\n",
       "    </tr>\n",
       "    <tr>\n",
       "      <th>112</th>\n",
       "      <td>2008</td>\n",
       "      <td>2</td>\n",
       "      <td>4</td>\n",
       "      <td>1</td>\n",
       "      <td>NaN</td>\n",
       "      <td>620</td>\n",
       "      <td>NaN</td>\n",
       "      <td>758</td>\n",
       "      <td>NW</td>\n",
       "      <td>1281</td>\n",
       "      <td>...</td>\n",
       "      <td>NaN</td>\n",
       "      <td>NaN</td>\n",
       "      <td>1</td>\n",
       "      <td>B</td>\n",
       "      <td>0</td>\n",
       "      <td>NaN</td>\n",
       "      <td>NaN</td>\n",
       "      <td>NaN</td>\n",
       "      <td>NaN</td>\n",
       "      <td>NaN</td>\n",
       "    </tr>\n",
       "    <tr>\n",
       "      <th>128</th>\n",
       "      <td>2008</td>\n",
       "      <td>1</td>\n",
       "      <td>21</td>\n",
       "      <td>1</td>\n",
       "      <td>NaN</td>\n",
       "      <td>1838</td>\n",
       "      <td>NaN</td>\n",
       "      <td>2005</td>\n",
       "      <td>UA</td>\n",
       "      <td>1251</td>\n",
       "      <td>...</td>\n",
       "      <td>NaN</td>\n",
       "      <td>NaN</td>\n",
       "      <td>1</td>\n",
       "      <td>A</td>\n",
       "      <td>0</td>\n",
       "      <td>NaN</td>\n",
       "      <td>NaN</td>\n",
       "      <td>NaN</td>\n",
       "      <td>NaN</td>\n",
       "      <td>NaN</td>\n",
       "    </tr>\n",
       "  </tbody>\n",
       "</table>\n",
       "<p>5 rows × 29 columns</p>\n",
       "</div>"
      ],
      "text/plain": [
       "     Year  Month  DayofMonth  DayOfWeek  DepTime  CRSDepTime  ArrTime  \\\n",
       "11   2008      3           6          4      NaN        1605      NaN   \n",
       "78   2008      1          19          6      NaN         750      NaN   \n",
       "103  2008      7          24          4      NaN        1230      NaN   \n",
       "112  2008      2           4          1      NaN         620      NaN   \n",
       "128  2008      1          21          1      NaN        1838      NaN   \n",
       "\n",
       "     CRSArrTime UniqueCarrier  FlightNum  ... TaxiIn  TaxiOut  Cancelled  \\\n",
       "11         1940            AA        484  ...    NaN      NaN          1   \n",
       "78          930            EV       4772  ...    NaN      NaN          1   \n",
       "103        1355            FL        816  ...    NaN      NaN          1   \n",
       "112         758            NW       1281  ...    NaN      NaN          1   \n",
       "128        2005            UA       1251  ...    NaN      NaN          1   \n",
       "\n",
       "     CancellationCode  Diverted  CarrierDelay WeatherDelay NASDelay  \\\n",
       "11                  B         0           NaN          NaN      NaN   \n",
       "78                  B         0           NaN          NaN      NaN   \n",
       "103                 A         0           NaN          NaN      NaN   \n",
       "112                 B         0           NaN          NaN      NaN   \n",
       "128                 A         0           NaN          NaN      NaN   \n",
       "\n",
       "     SecurityDelay  LateAircraftDelay  \n",
       "11             NaN                NaN  \n",
       "78             NaN                NaN  \n",
       "103            NaN                NaN  \n",
       "112            NaN                NaN  \n",
       "128            NaN                NaN  \n",
       "\n",
       "[5 rows x 29 columns]"
      ]
     },
     "execution_count": 31,
     "metadata": {},
     "output_type": "execute_result"
    }
   ],
   "source": [
    "df[df[\"DepDelay\"].isnull()].head()"
   ]
  },
  {
   "cell_type": "markdown",
   "metadata": {},
   "source": [
    "- Чем вызвано это явление? Что их объединяет? \n",
    "\n",
    "Пропущенные значения в DepDelay возникают, потому что рейс отменён.\n",
    "Если рейс отменён, то у него нет вылета и задержки. Таким образом, признак CancellationCode и столбец Cancelled удалять не надо.\n",
    "Но саму строку рейс с пропущенной DepDelay нужно убрать, потому что для обучения модели она бесполезна, тк нет целевого значения.\n"
   ]
  },
  {
   "cell_type": "markdown",
   "metadata": {},
   "source": [
    "**13. (0.5 балла)** Обратите внимание, что признаки DepTime, CRSDepTime, ArrTime, CRSArrTime приведены в формате hhmm, в связи с чем будет не вполне корректно рассматривать их как вещественные.\n",
    "\n",
    "Преобразуйте каждый признак FeatureName из указанных в пару новых признаков FeatureName\\_Hour, FeatureName\\_Minute, разделив каждое из значений на часы и минуты. Не забудьте при этом исключить исходный признак из выборки. В случае, если значение признака отсутствует, значения двух новых признаков, его заменяющих, также должны отсутствовать. \n",
    "\n",
    "Например, признак DepTime необходимо заменить на пару признаков DepTime_Hour, DepTime_Minute. При этом, например, значение 155 исходного признака будет преобразовано в значения 1 и 55 признаков DepTime_Hour, DepTime_Minute соответственно."
   ]
  },
  {
   "cell_type": "code",
   "execution_count": 53,
   "metadata": {},
   "outputs": [
    {
     "name": "stdout",
     "output_type": "stream",
     "text": [
      "Тип X: <class 'pandas.core.frame.DataFrame'>\n",
      "Форма X: (63404, 28)\n",
      "Новая форма X: (63404, 32)\n"
     ]
    }
   ],
   "source": [
    "df_filtered = df[df['DepDelay'].notna() & (df['DepDelay'] != 0)].copy()\n",
    "# стб с задержкой вылета, оставляем только те, где значение не пропущено \n",
    "# и убираем случаи, когда задержки нет вообще (0 минут).\n",
    "\n",
    "y = df_filtered['DepDelay'] # y - величина задержки вылета (целевая переменная)\n",
    "X = df_filtered.drop(columns='DepDelay') # х - это все остальные признаки\n",
    "# убираем целевую переменную из признаков\n",
    "\n",
    "print(f\"Тип X: {type(X)}\")\n",
    "print(f\"Форма X: {X.shape}\")\n",
    "# временные признаки\n",
    "time_columns = ['DepTime', 'CRSDepTime', 'ArrTime', 'CRSArrTime'] \n",
    "\n",
    "for col in time_columns: # разбиваем время на часы и минуты\n",
    "    if col in X.columns:  \n",
    "        X[col + '_Hour'] = X[col] // 100 # целая часть - часы\n",
    "        X[col + '_Minute'] = X[col] % 100 # остаток от деления - минуты\n",
    "        \n",
    "        X.loc[X[col].isna(), [col + '_Hour', col + '_Minute']] = np.nan \n",
    "        # убираем старые столбцы времени. они больше не нужны\n",
    "        X = X.drop(columns=col) \n",
    "\n",
    "print(f\"Новая форма X: {X.shape}\")\n",
    "\n",
    "X_real = X.copy()\n",
    "# просто копия для дальнейших преобразований\n",
    "\n",
    "time_features = [c for c in X_real.columns if 'Hour' in c or 'Minute' in c]\n",
    "# список всех признаков, связанных со временем\n",
    "numeric_features = ['TaxiIn', 'TaxiOut'] "
   ]
  },
  {
   "cell_type": "markdown",
   "metadata": {},
   "source": [
    "**14. (0.5 балла)** Некоторые из признаков, отличных от целевой переменной, могут оказывать чересчур значимое влияние на прогноз, поскольку по своему смыслу содержат большую долю информации о значении целевой переменной. Изучите описание датасета и исключите признаки, сильно коррелирующие с ответами. Ваш выбор признаков для исключения из выборки обоснуйте. Кроме того, исключите признаки TailNum и Year."
   ]
  },
  {
   "cell_type": "code",
   "execution_count": 54,
   "metadata": {},
   "outputs": [
    {
     "name": "stdout",
     "output_type": "stream",
     "text": [
      "Удаляем следующие признаки: ['CarrierDelay', 'WeatherDelay', 'NASDelay', 'SecurityDelay', 'LateAircraftDelay', 'ArrTime_Hour', 'ArrTime_Minute', 'CRSArrTime_Hour', 'CRSArrTime_Minute', 'TailNum', 'Year', 'ActualElapsedTime', 'CRSElapsedTime', 'ArrDelay']\n",
      "Форма данных после удаления: (63404, 18)\n"
     ]
    }
   ],
   "source": [
    "# причины задержек\n",
    "reasons_for_delay = ['CarrierDelay', 'WeatherDelay', 'NASDelay', 'SecurityDelay', 'LateAircraftDelay']\n",
    "# время прибытия самолёта\n",
    "arrival_columns = ['ArrTime_Hour', 'ArrTime_Minute', 'CRSArrTime_Hour', 'CRSArrTime_Minute']\n",
    "# технические признаки\n",
    "technical_columns = ['TailNum', 'Year', 'ActualElapsedTime', 'CRSElapsedTime', 'ArrDelay']\n",
    "# все эти признаки могут искажать модель, поэтому их удаляем\n",
    "\n",
    "\n",
    "columns_to_remove = reasons_for_delay + arrival_columns + technical_columns\n",
    "\n",
    "columns_to_remove = [col for col in columns_to_remove if col in X.columns]\n",
    "# фильтруем исходный список, чтобы оставить только те столбцы, \n",
    "# которые реально есть в таблице\n",
    "\n",
    "X = X.drop(columns=columns_to_remove) # удаляем ненужные стб из х\n",
    "\n",
    "print(\"Удаляем следующие признаки:\", columns_to_remove)\n",
    "print(\"Форма данных после удаления:\", X.shape)"
   ]
  },
  {
   "cell_type": "markdown",
   "metadata": {},
   "source": [
    "1) Причины задержек (CarrierDelay, WeatherDelay, NASDelay, SecurityDelay, LateAircraftDelay)\n",
    "\n",
    "Обоснование:\n",
    "Эти признаки напрямую связаны с целевой переменной DepDelay (задержкой вылета). Если их включить в модель, она будет просто читать ответ из этих колонок, а не учиться предсказывать задержку на основе реально независимых факторов.\n",
    "\n",
    "2) Время прибытия (ArrTime_Hour, ArrTime_Minute, CRSArrTime_Hour, CRSArrTime_Minute)\n",
    "\n",
    "Обоснование:\n",
    "Фактическое или запланированное время прибытия косвенно зависит от времени вылета и задержки.\n",
    "\n",
    "3) Технические признаки (TailNum, Year, ActualElapsedTime, CRSElapsedTime, ArrDelay)\n",
    "\n",
    "Обоснование:\n",
    "TailNum – уникальный номер самолета, не несет обобщаемой информации для предсказания задержек.\n",
    "Year – год рейса, обычно не влияет на задержку, если модель не учитывает долгосрочные тренды.\n",
    "ActualElapsedTime и CRSElapsedTime – фактическое и плановое время полета, могут быть прямо связаны с задержкой.\n",
    "ArrDelay – задержка прибытия зависит от DepDelay, включение этого признака создаёт утечку целевой переменной."
   ]
  },
  {
   "cell_type": "markdown",
   "metadata": {},
   "source": [
    "**15. (1 балл)** Приведем данные к виду, пригодному для обучения линейных моделей. Для этого вещественные признаки надо отмасштабировать, а категориальные — привести к числовому виду. Также надо устранить пропуски в данных."
   ]
  },
  {
   "cell_type": "markdown",
   "metadata": {},
   "source": [
    "В первую очередь поймем, зачем необходимо применять масштабирование. Следующие ячейки с кодом построят гистограммы для 3 вещественных признаков выборки."
   ]
  },
  {
   "cell_type": "code",
   "execution_count": 34,
   "metadata": {},
   "outputs": [
    {
     "data": {
      "text/plain": [
       "Index(['Month', 'DayofMonth', 'DayOfWeek', 'UniqueCarrier', 'FlightNum',\n",
       "       'AirTime', 'Origin', 'Dest', 'Distance', 'TaxiIn', 'TaxiOut',\n",
       "       'Cancelled', 'CancellationCode', 'Diverted', 'DepTime_Hour',\n",
       "       'DepTime_Minute', 'CRSDepTime_Hour', 'CRSDepTime_Minute'],\n",
       "      dtype='object')"
      ]
     },
     "execution_count": 34,
     "metadata": {},
     "output_type": "execute_result"
    }
   ],
   "source": [
    "X.columns"
   ]
  },
  {
   "cell_type": "code",
   "execution_count": 55,
   "metadata": {
    "scrolled": true
   },
   "outputs": [
    {
     "data": {
      "text/plain": [
       "<Axes: >"
      ]
     },
     "execution_count": 55,
     "metadata": {},
     "output_type": "execute_result"
    },
    {
     "data": {
      "image/png": "[encoded data removed]",
      "text/plain": [
       "<Figure size 640x480 with 1 Axes>"
      ]
     },
     "metadata": {},
     "output_type": "display_data"
    }
   ],
   "source": [
    "X['DepTime_Hour'].hist(bins=20)"
   ]
  },
  {
   "cell_type": "markdown",
   "metadata": {},
   "source": [
    "По оси (x) - часы вылета (0–23).\n",
    "\n",
    "По оси (y) - количество рейсов, которые вылетают в этот час."
   ]
  },
  {
   "cell_type": "code",
   "execution_count": 36,
   "metadata": {},
   "outputs": [
    {
     "data": {
      "text/plain": [
       "<Axes: >"
      ]
     },
     "execution_count": 36,
     "metadata": {},
     "output_type": "execute_result"
    },
    {
     "data": {
      "image/png": "[encoded data removed]",
      "text/plain": [
       "<Figure size 640x480 with 1 Axes>"
      ]
     },
     "metadata": {},
     "output_type": "display_data"
    }
   ],
   "source": [
    "X['TaxiIn'].hist(bins=20)"
   ]
  },
  {
   "cell_type": "markdown",
   "metadata": {},
   "source": [
    "TaxiIn - время в минутах, которое самолёт проводит, катясь по рулёжным дорожкам от полосы приземления до гейта.\n",
    "\n",
    "Это вещественный числовой признак.\n",
    "\n",
    "Ось X - длительность руления (в минутах).\n",
    "\n",
    "Ось Y - количество рейсов с таким временем руления."
   ]
  },
  {
   "cell_type": "code",
   "execution_count": 37,
   "metadata": {},
   "outputs": [
    {
     "data": {
      "text/plain": [
       "<Axes: >"
      ]
     },
     "execution_count": 37,
     "metadata": {},
     "output_type": "execute_result"
    },
    {
     "data": {
      "image/png": "[encoded data removed]",
      "text/plain": [
       "<Figure size 640x480 with 1 Axes>"
      ]
     },
     "metadata": {},
     "output_type": "display_data"
    }
   ],
   "source": [
    "X['FlightNum'].hist(bins=20)"
   ]
  },
  {
   "cell_type": "markdown",
   "metadata": {},
   "source": [
    "FlightNum - это уникальный номер рейса авиакомпании.\n",
    "\n",
    "Он числовой, но не является вещественным признаком в математическом смысле: числа просто обозначают рейсы, а не количественные величины.\n",
    "\n",
    "Ось X - номера рейсов (в виде чисел).\n",
    "\n",
    "Ось Y - количество рейсов, попавших в каждый интервал."
   ]
  },
  {
   "cell_type": "markdown",
   "metadata": {},
   "source": [
    "Какую проблему вы наблюдаете на этих графиках? Как масштабирование поможет её исправить?"
   ]
  },
  {
   "cell_type": "markdown",
   "metadata": {},
   "source": [
    "признаки с большими числами будут доминировать при обучении модели, а маленькие признаки почти не влияют на веса линейной регрессии.\n",
    "\n",
    "В линейной модели это может исказить коэффициенты и ухудшить качество предсказаний.\n",
    "\n",
    "Масштабирование приводит все числовые признаки к приблизительно одинаковому масштабу"
   ]
  },
  {
   "cell_type": "markdown",
   "metadata": {},
   "source": [
    "Некоторые из признаков в нашем датасете являются категориальными. Типичным подходом к работе с ними является бинарное, или [one-hot-кодирование](https://en.wikipedia.org/wiki/One-hot).\n",
    "\n",
    "Реализуйте функцию transform_data, которая принимает на вход DataFrame с признаками и выполняет следующие шаги:\n",
    "1. Замена пропущенных значений на нули для вещественных признаков и на строки 'nan' для категориальных.\n",
    "2. Масштабирование вещественных признаков с помощью [StandardScaler](http://scikit-learn.org/stable/modules/generated/sklearn.preprocessing.StandardScaler.html).\n",
    "3. One-hot-кодирование категориальных признаков с помощью [DictVectorizer](http://scikit-learn.org/stable/modules/generated/sklearn.feature_extraction.DictVectorizer.html) или функции [pd.get_dummies](http://pandas.pydata.org/pandas-docs/stable/generated/pandas.get_dummies.html).\n",
    "\n",
    "Метод должен возвращать преобразованный DataFrame, который должна состоять из масштабированных вещественных признаков и закодированных категориальных (исходные признаки должны быть исключены из выборки)."
   ]
  },
  {
   "cell_type": "code",
   "execution_count": 56,
   "metadata": {
    "collapsed": true
   },
   "outputs": [],
   "source": [
    "def transform_data(data):\n",
    "    # Your code here\n",
    "    df = data.copy() # копия данных, чтобы не изменять исходный DataFrame\n",
    "    # выбираем числовые признаки\n",
    "    numeric = df.select_dtypes(include=['int64', 'float64'])\n",
    "    # заменяем все пропуски на 0\n",
    "    df[numeric.columns] = numeric.fillna(0) \n",
    "    scaler = StandardScaler() # масштабируем числовые признаки\n",
    "    df[numeric.columns] = scaler.fit_transform(df[numeric.columns])\n",
    "\n",
    "# выбираем категориальные признаки, те строки\n",
    "# Пропуски заменяем на 'nan'\n",
    "# Применяем OneHot кодирование, \n",
    "# те каждая категория превращается в отдельный столбец с 0 и 1\n",
    "    categorical = df.select_dtypes(include=['object'])\n",
    "    df[categorical.columns] = categorical.fillna('nan')\n",
    "    df_encoded = pd.get_dummies(df[categorical.columns])\n",
    "\n",
    "# объединяем масштабированные числовые признаки и закодированные категориальные\n",
    "    df_final = pd.concat([df[numeric.columns], df_encoded], axis=1)\n",
    "\n",
    "    return df_final\n"
   ]
  },
  {
   "cell_type": "markdown",
   "metadata": {},
   "source": [
    "Примените функцию transform_data к данным. Сколько признаков получилось после преобразования?"
   ]
  },
  {
   "cell_type": "code",
   "execution_count": 39,
   "metadata": {
    "collapsed": true
   },
   "outputs": [
    {
     "data": {
      "text/plain": [
       "631"
      ]
     },
     "execution_count": 39,
     "metadata": {},
     "output_type": "execute_result"
    }
   ],
   "source": [
    "# Your code here\n",
    "from sklearn.preprocessing import StandardScaler\n",
    "\n",
    "X_transformed = transform_data(X)\n",
    "X_transformed.shape[1]"
   ]
  },
  {
   "cell_type": "markdown",
   "metadata": {},
   "source": [
    "числовые признаки заполняются нулями и масштабируются;\n",
    "\n",
    "категориальные признаки заполняются 'nan' и кодируются в формате one-hot"
   ]
  },
  {
   "cell_type": "markdown",
   "metadata": {},
   "source": [
    "**16. (0.5 балла)** Разбейте выборку и вектор целевой переменной на обучение и контроль в отношении 70/30 (для этого можно использовать, например, функцию [train_test_split](http://scikit-learn.org/stable/modules/generated/sklearn.cross_validation.train_test_split.html)). "
   ]
  },
  {
   "cell_type": "code",
   "execution_count": 57,
   "metadata": {
    "collapsed": true
   },
   "outputs": [
    {
     "data": {
      "text/plain": [
       "((44382, 631), (19022, 631))"
      ]
     },
     "execution_count": 57,
     "metadata": {},
     "output_type": "execute_result"
    }
   ],
   "source": [
    "# Your code here\n",
    "from sklearn.model_selection import train_test_split\n",
    "# разбиваем данные на обучающую и тестовую выборки\n",
    "X_train, X_test, y_train, y_test = train_test_split(\n",
    "    X_transformed, \n",
    "    y,              \n",
    "    test_size=0.3,  \n",
    "    # 30% данных уйдут в контрольную выборку, 70% останется для обучения\n",
    "    random_state=42 \n",
    ")\n",
    "X_train.shape, X_test.shape # размеры выборок"
   ]
  },
  {
   "cell_type": "markdown",
   "metadata": {},
   "source": [
    "### Scikit-learn\n",
    "\n",
    "<img src = \"https://pp.vk.me/c4534/u35727827/93547647/x_d31c4463.jpg\">\n",
    "Теперь, когда мы привели данные к пригодному виду, попробуем решить задачу при помощи метода наименьших квадратов. Напомним, что данный метод заключается в оптимизации функционала $MSE$:\n",
    "\n",
    "$$MSE(X, y) = \\frac{1}{l} \\sum_{i=1}^l (<w, x_i> - y_i)^2 \\to \\min_{w},$$\n",
    "\n",
    "где $\\{ (x_i, y_i ) \\}_{i=1}^l$ — обучающая выборка, состоящая из $l$ пар объект-ответ.\n",
    "\n",
    "Заметим, что решение данной задачи уже реализовано в модуле sklearn в виде класса [LinearRegression](http://scikit-learn.org/stable/modules/generated/sklearn.linear_model.LinearRegression.html#sklearn.linear_model.LinearRegression).\n",
    "\n",
    "**17. (0.5 балла)** Обучите линейную регрессию на 1000 объектах из обучающей выборки и выведите значения $MSE$ и $R^2$ на этой подвыборке и контрольной выборке (итого 4 различных числа). Проинтерпретируйте полученный результат — насколько качественные прогнозы строит полученная модель? Какие проблемы наблюдаются в модели?\n",
    "\n",
    "**Подсказка**: изучите значения полученных коэффициентов $w$, сохраненных в атрибуте coef_ объекта LinearRegression."
   ]
  },
  {
   "cell_type": "code",
   "execution_count": 41,
   "metadata": {},
   "outputs": [],
   "source": [
    "from sklearn.metrics import mean_squared_error, r2_score\n",
    "from sklearn.linear_model import LinearRegression"
   ]
  },
  {
   "cell_type": "code",
   "execution_count": 58,
   "metadata": {
    "collapsed": true
   },
   "outputs": [
    {
     "name": "stdout",
     "output_type": "stream",
     "text": [
      "MSE на обучении: 640.8839752320393\n",
      "MSE на тесте: 1502.0790193213393\n",
      "R^2 на обучении: 0.3952878900958152\n",
      "R^2 на тесте: -0.1229078795699079\n",
      "Коэффициенты модели: [-7.27232754e-01  5.72736170e-01  8.28429064e-01  5.16108159e-01\n",
      " -7.02362567e+00  8.14674748e+00  4.11247998e-01  4.55336914e+00\n",
      " -2.87769808e-13 -1.17157898e+00  2.22978913e+01  1.28501016e+00\n",
      " -1.37925768e+01 -1.75853761e+00 -1.31144034e+01  5.43412222e+00\n",
      " -1.46105350e-13 -1.22956940e+00  5.85692907e+00  1.71079837e+01\n",
      " -2.59771034e+00  2.09742790e+00  1.32242686e+01 -1.12538821e+01\n",
      " -1.37804221e+01 -7.82863119e+00 -1.30592126e+01  1.70825740e+01\n",
      "  2.21622426e+00  8.61305668e+00 -3.80555272e+00  4.09888789e+00\n",
      " -7.51510021e+00 -1.54699018e+00 -7.46069873e-14  1.38242817e+02\n",
      " -2.42999165e+00  2.60981270e+01 -1.55431223e-14 -1.13686838e-13\n",
      " -6.90095872e+01 -2.84217094e-14 -6.99440506e-14  2.84217094e-14\n",
      " -1.77635684e-14  2.35367281e-14  1.77635684e-15 -1.34291111e+01\n",
      " -3.01980663e-14  7.99360578e-15 -1.90518289e+01  2.86264024e+00\n",
      " -7.31008135e+00 -2.13031811e+01  1.39524596e+00 -5.04457587e-15\n",
      " -5.32907052e-15  7.10542736e-15 -1.38771047e+01  2.30926389e-14\n",
      " -2.19525943e+01 -3.19744231e-14 -4.44089210e-15  4.68694859e+00\n",
      " -3.73034936e-14 -1.77635684e-15  3.55271368e-15 -5.15143483e-14\n",
      "  3.54675543e+00 -1.42332284e+01 -9.19908176e+00 -7.28306304e-14\n",
      " -2.73624632e+00 -4.61852778e-14  3.19744231e-14  0.00000000e+00\n",
      "  4.97379915e-14  2.30926389e-14  1.65530214e+00  2.60610039e+00\n",
      " -1.31400582e+01  5.45216870e+01  3.52727649e+01  8.30914373e+00\n",
      "  7.46069873e-14  7.81597009e-14  7.10542736e-15 -1.88799505e+01\n",
      " -1.93178806e-14 -6.07828614e+00  6.75015599e-14  1.02701881e+02\n",
      " -1.10459372e+01 -2.90734112e+01  3.47733559e+00 -7.93350755e+00\n",
      "  3.28932727e+01 -5.68434189e-14 -1.24344979e-14 -2.66453526e-14\n",
      " -5.67390539e+00  2.48689958e-14 -1.08147576e+01 -4.26325641e-14\n",
      " -7.10542736e-15 -2.19780745e+01 -3.19744231e-14 -7.10542736e-15\n",
      " -4.68308824e+00 -2.83949303e+00 -1.06581410e-14 -1.66970856e+01\n",
      " -1.31806245e+01 -7.69443596e+00 -7.46547999e+00 -1.59066002e+01\n",
      "  4.26325641e-14 -7.81106662e+00 -5.78579798e+00  7.10542736e-15\n",
      "  8.88178420e-16  7.66053887e-15 -4.08929130e+00 -2.66453526e-14\n",
      "  5.23923320e+01 -1.59872116e-14 -3.55271368e-15 -3.33898266e+00\n",
      "  3.55271368e-14 -2.66453526e-15 -1.59872116e-14  6.03157409e+00\n",
      " -1.72947454e+01  1.06581410e-14  3.90798505e-14 -1.01697980e+00\n",
      " -3.55271368e-15 -1.77464082e+01 -1.06581410e-14  1.42108547e-14\n",
      " -6.14427275e+00  2.30926389e-14 -1.21916344e+01 -2.47444479e+00\n",
      " -2.13162821e-14  2.33585546e+01  6.21724894e-14 -7.10542736e-15\n",
      "  2.49664805e+01  3.65128804e+00 -1.01456984e+01 -1.16720559e+01\n",
      " -2.69833610e+01  3.28626015e-14 -3.55271368e-15  2.13162821e-14\n",
      "  2.56461519e-14 -3.55271368e-15  4.44089210e-15  3.10862447e-15\n",
      " -1.18456068e+00  5.07944347e-01 -2.21338977e+01 -4.97379915e-14\n",
      "  3.05257089e+00  0.00000000e+00 -2.19510236e+01 -9.08963762e+00\n",
      "  4.98342480e+00 -4.26110228e+00 -1.06581410e-14  1.02128448e-02\n",
      " -1.15463195e-14  0.00000000e+00  2.37298106e+00  7.10542736e-15\n",
      "  1.06581410e-14 -3.37507799e-14 -8.88178420e-15 -5.77832007e+00\n",
      "  1.22454106e+01 -1.27382455e+01 -1.25450849e+00 -1.12890822e+01\n",
      "  1.77635684e-14 -1.77635684e-14 -4.00887976e+00 -2.66453526e-14\n",
      " -9.77172390e-01 -1.08538671e+01  1.77635684e-14 -1.59959621e+01\n",
      " -5.32907052e-15 -2.24493772e+01 -2.06901554e+01  1.06581410e-14\n",
      "  4.38308844e+00  7.10542736e-15 -7.10542736e-15  1.44713334e+01\n",
      "  1.42108547e-14 -3.55271368e-15  2.84217094e-14  1.77635684e-15\n",
      " -1.74202010e+01  4.65663097e+00 -8.73047191e+00  7.10542736e-15\n",
      " -3.40095691e+00  3.55271368e-15  1.71384467e+00  1.66533454e-14\n",
      "  2.27932611e+00 -1.42108547e-14  2.72528353e+00  7.10542736e-15\n",
      "  4.94104891e+01  3.46004514e+00  1.69643424e+01  4.44089210e-16\n",
      " -2.48689958e-14 -6.14245471e+00  5.32907052e-15  1.69831446e+01\n",
      " -1.77635684e-15 -3.55271368e-15  2.13162821e-14  1.42108547e-14\n",
      "  1.91438373e+01  7.10542736e-15  2.63983842e+00 -6.68140093e+00\n",
      "  6.21724894e-15  4.41317855e+01  0.00000000e+00 -3.38001341e+00\n",
      " -1.71705621e+01 -9.52735586e-01 -3.21881440e+00  1.42108547e-14\n",
      " -1.44951371e+01 -3.18974535e+00 -8.59463160e+00  7.10542736e-15\n",
      " -2.13162821e-14 -1.06581410e-14 -1.52775283e+01 -2.49706764e+01\n",
      "  7.10542736e-15 -2.39808173e-14 -1.16506663e+01  2.88584538e-01\n",
      " -4.58607587e+00  5.32907052e-15 -2.22731408e+01  7.10542736e-15\n",
      " -5.32907052e-15  5.35109714e+01 -1.59872116e-14 -5.77315973e-15\n",
      " -3.55271368e-14 -1.15562255e+01  2.66625965e+00 -2.61187498e+00\n",
      " -1.50196182e+01 -3.55271368e-14  0.00000000e+00 -5.42762035e+00\n",
      " -6.88338275e-15  3.55271368e-15 -3.92525535e+01 -4.61852778e-14\n",
      " -1.90037287e+01 -1.86653944e+01  7.40916796e+00  4.76490038e+00\n",
      "  0.00000000e+00  2.61961376e+01  6.83608140e+00 -1.68346618e+01\n",
      " -9.37267142e+00 -1.29511771e+01  3.08415372e-01  5.73535928e+00\n",
      " -8.88178420e-16  1.59872116e-14 -4.30942475e+00 -1.01314733e+01\n",
      "  8.27301989e+00  8.56394738e-01  1.42108547e-14  7.29410931e+00\n",
      " -5.32907052e-15 -8.10133776e+00 -1.59872116e-14 -1.18716248e+01\n",
      " -1.99236119e+00  1.42108547e-14 -2.52216879e+00 -1.77635684e-15\n",
      "  6.04031681e+00  0.00000000e+00  6.52205542e+01  2.83245879e+01\n",
      "  7.70872708e+00  1.93870456e-26  4.23284997e-26  6.80061209e-26\n",
      " -2.42338070e-27  1.16740097e+02 -1.20840053e+01  5.04870979e-28\n",
      "  2.42100639e+00  1.21169035e-27 -1.28662941e+01 -1.94527152e+01\n",
      "  6.93097724e+00  8.16487613e-01  6.73687213e-28  8.07793567e-28\n",
      "  6.31088724e-28 -5.47469468e-28 -1.40965995e+01  4.03896783e-27\n",
      "  1.23232866e+01 -1.00974196e-27  3.78133324e+00  1.11752755e+01\n",
      "  2.12045811e-27 -2.12018290e+01  9.01702508e+01 -8.02943462e+00\n",
      " -4.78789916e+00  2.47386780e-27 -4.03896783e-27  3.68792473e-29\n",
      " -1.87900181e+01 -2.72630329e-27 -6.96613483e-28  0.00000000e+00\n",
      " -3.02097302e+00  4.28320657e-28 -8.07793567e-28  1.36043061e+01\n",
      " -2.63726294e+00  9.62931326e+00  0.00000000e+00  4.28607440e-01\n",
      " -1.53149751e+01 -5.57747035e+00 -1.96030466e-28 -4.03896783e-28\n",
      " -3.70007803e-02 -1.18101145e+01 -2.01948392e-28 -1.91835572e+01\n",
      "  2.15229605e-28  8.07793567e-28 -4.67505563e-01 -1.91298770e-28\n",
      "  1.98641313e+01  8.07793567e-28  1.76704843e-28  1.95439218e+00\n",
      " -3.74302840e+00  6.99537587e+00  1.81334251e+01 -8.01679895e-29\n",
      " -2.70255229e+01  0.00000000e+00  1.55620088e+01  0.00000000e+00\n",
      "  0.00000000e+00  0.00000000e+00 -1.78292413e+01 -1.61034754e+01\n",
      " -3.47698885e+00 -6.50578131e-01 -6.93705846e+00 -9.02933152e+00\n",
      " -1.82463549e+01  0.00000000e+00 -1.99246601e+00  0.00000000e+00\n",
      "  0.00000000e+00  0.00000000e+00  0.00000000e+00  0.00000000e+00\n",
      "  2.64430497e+01 -2.01142313e+01 -1.24271263e+01  2.42017549e+01\n",
      "  3.80206101e+00  1.90872610e+01 -6.94119813e+00  0.00000000e+00\n",
      "  0.00000000e+00 -9.78235442e+00 -1.52927631e+01 -8.89289353e+00\n",
      "  0.00000000e+00  0.00000000e+00  1.71114882e+00  0.00000000e+00\n",
      "  0.00000000e+00 -1.10708853e+00  2.57051476e+01  0.00000000e+00\n",
      " -5.90316538e+00 -1.39827564e+01 -9.06322500e+00  0.00000000e+00\n",
      "  0.00000000e+00  0.00000000e+00  0.00000000e+00 -1.17183354e+01\n",
      "  1.14681582e+01 -2.49030060e+01  0.00000000e+00  0.00000000e+00\n",
      "  0.00000000e+00  0.00000000e+00  1.33605985e+01 -3.23929158e+00\n",
      "  0.00000000e+00  5.85569258e+00  0.00000000e+00 -1.06721333e+01\n",
      "  0.00000000e+00 -9.36132939e+00  0.00000000e+00 -1.92972271e+01\n",
      "  0.00000000e+00  9.93324918e+00  0.00000000e+00  0.00000000e+00\n",
      " -8.41310966e+00  0.00000000e+00  0.00000000e+00  0.00000000e+00\n",
      " -2.95375823e+01 -1.97281503e+01  0.00000000e+00 -3.18826216e+01\n",
      " -3.21520439e+00  0.00000000e+00  0.00000000e+00 -5.92001636e+00\n",
      " -2.82697390e+01 -1.58038382e+01  0.00000000e+00  0.00000000e+00\n",
      " -1.39499530e+01  0.00000000e+00 -6.20501998e+00  0.00000000e+00\n",
      "  0.00000000e+00 -9.33063502e+00 -1.06187676e+00 -1.04204042e-01\n",
      " -8.22782238e+00  0.00000000e+00  7.65292630e+00  0.00000000e+00\n",
      "  2.81888715e+00  7.30771441e+00 -1.32784419e+01 -1.16686777e+01\n",
      " -1.63148922e+01  4.75196265e+00  0.00000000e+00 -2.80761701e+01\n",
      " -4.88092978e+00  0.00000000e+00  0.00000000e+00  0.00000000e+00\n",
      "  0.00000000e+00  0.00000000e+00  6.02001052e+00 -1.19463675e+01\n",
      "  1.11752755e+01  5.21486890e+00 -6.02344993e+00  0.00000000e+00\n",
      "  5.74042113e-01  0.00000000e+00 -9.02832275e+00 -6.82919202e+00\n",
      "  0.00000000e+00  0.00000000e+00  2.82759490e+01 -4.23515962e+00\n",
      " -7.68821550e+00 -2.35171096e+01 -3.67881026e-01  0.00000000e+00\n",
      " -7.96715554e+00  2.15588812e+01  0.00000000e+00  0.00000000e+00\n",
      "  0.00000000e+00  0.00000000e+00 -6.48360229e+00  2.91905421e+00\n",
      " -9.93846618e+00  0.00000000e+00  7.66694454e+00  9.35900147e-01\n",
      " -6.98767861e+00  0.00000000e+00  2.74823271e+00  1.46366356e+01\n",
      "  0.00000000e+00  0.00000000e+00 -2.56102593e+00  1.72760839e-01\n",
      "  4.80203198e+00  0.00000000e+00 -1.53344691e+01  7.96069138e+00\n",
      "  5.47246168e+00  0.00000000e+00  0.00000000e+00 -2.46673460e+01\n",
      "  0.00000000e+00  0.00000000e+00 -1.45430490e+00  3.87189664e+00\n",
      "  8.82674487e+00 -6.68262823e+00  0.00000000e+00 -2.42538637e+01\n",
      "  0.00000000e+00 -9.91825788e+00  6.38901949e+00  5.68716337e+00\n",
      " -3.42380350e+00  0.00000000e+00 -2.31488284e+01 -6.23448487e-01\n",
      " -1.86811871e+00  0.00000000e+00  0.00000000e+00  0.00000000e+00\n",
      "  2.41591319e+01 -1.14890694e+01  0.00000000e+00  1.19138795e+01\n",
      "  4.02686832e+00 -2.42483877e+00  0.00000000e+00  0.00000000e+00\n",
      "  1.13474603e+01  0.00000000e+00  0.00000000e+00  0.00000000e+00\n",
      "  0.00000000e+00  0.00000000e+00  0.00000000e+00  1.88926936e+01\n",
      "  4.95116763e-01  0.00000000e+00  3.69893929e+01  0.00000000e+00\n",
      "  0.00000000e+00  1.17535443e+01  0.00000000e+00  0.00000000e+00\n",
      " -3.83686540e+00  0.00000000e+00 -1.74397766e+01 -1.30007077e+01\n",
      "  1.06587572e+01  0.00000000e+00  0.00000000e+00 -1.30528046e+01\n",
      "  7.21415289e+00  1.29293592e+01  2.71794812e+00  1.08670746e+02\n",
      "  0.00000000e+00 -2.60383315e+01  0.00000000e+00  0.00000000e+00\n",
      "  6.01928308e+01 -2.98661911e+00  1.47070669e+01  2.51085488e+00\n",
      "  0.00000000e+00  0.00000000e+00  0.00000000e+00  3.45510214e+00\n",
      "  0.00000000e+00  2.30051834e+01 -1.13931794e+00  0.00000000e+00\n",
      "  3.79121267e+01  0.00000000e+00 -8.09861540e+00  0.00000000e+00\n",
      "  0.00000000e+00 -6.14956218e+00 -9.00964183e+00 -2.88905272e+00\n",
      "  0.00000000e+00  0.00000000e+00  0.00000000e+00  0.00000000e+00\n",
      " -1.80797212e+00  3.28467383e+01  0.00000000e+00  7.31684737e+00\n",
      "  0.00000000e+00 -2.96087176e+00 -5.10104880e+00  0.00000000e+00\n",
      "  0.00000000e+00  0.00000000e+00  0.00000000e+00  1.75518356e+00\n",
      "  0.00000000e+00  5.13333262e+01  0.00000000e+00  0.00000000e+00\n",
      " -6.52324109e+00  0.00000000e+00  0.00000000e+00  0.00000000e+00\n",
      "  0.00000000e+00  0.00000000e+00  0.00000000e+00]\n"
     ]
    }
   ],
   "source": [
    "# Your code here\n",
    "# используем только первые 1000 строк обучающей выборки\n",
    "X_small = X_train[:1000]\n",
    "y_small = y_train[:1000]\n",
    "\n",
    "model = LinearRegression() # создаём модель линейной регрессии\n",
    "model.fit(X_small, y_small) # обучаем модель на небольшой выборке\n",
    "\n",
    "y_pred_train = model.predict(X_small) # предсказания для обучающей подвыборки\n",
    "y_pred_test = model.predict(X_test) # предсказания для тестовой выборки\n",
    "\n",
    "mse_train = mean_squared_error(y_small, y_pred_train) # среднеквадратичная ошибка\n",
    "# чем меньше, тем лучше модель подгоняет данные\n",
    "mse_test = mean_squared_error(y_test, y_pred_test) \n",
    "\n",
    "r2_train = r2_score(y_small, y_pred_train) # коэффициент детерминации\n",
    "r2_test = r2_score(y_test, y_pred_test)\n",
    "\n",
    "print(\"MSE на обучении:\", mse_train)\n",
    "print(\"MSE на тесте:\", mse_test)\n",
    "print(\"R^2 на обучении:\", r2_train)\n",
    "print(\"R^2 на тесте:\", r2_test)\n",
    "\n",
    "print(\"Коэффициенты модели:\", model.coef_)"
   ]
  },
  {
   "cell_type": "markdown",
   "metadata": {},
   "source": [
    "На обучающей выборке модель объясняет 39.5 % разброса целевой переменной.\n",
    "\n",
    "На тестовой выборке отрицательный. Значит, что модель предсказывает хуже, чем просто среднее значение.\n",
    "\n",
    "MSE на тесте в несколько раз больше, чем на обучении. Значит модель переобучилась."
   ]
  },
  {
   "cell_type": "markdown",
   "metadata": {
    "collapsed": true
   },
   "source": [
    "Для решения описанных вами в предыдущем пункте проблем используем L1- или L2-регуляризацию, тем самым получив Lasso и Ridge регрессии соответственно и изменив оптимизационную задачу одним из следующих образов:\n",
    "$$MSE_{L1}(X, y) = \\frac{1}{l} \\sum_{i=1}^l (<w, x_i> - y_i)^2 + \\alpha ||w||_1 \\to \\min_{w},$$\n",
    "$$MSE_{L2}(X, y) = \\frac{1}{l} \\sum_{i=1}^l (<w, x_i> - y_i)^2 + \\alpha ||w||_2^2 \\to \\min_{w},$$\n",
    "\n",
    "где $\\alpha$ — коэффициент регуляризации. Один из способов его подбора заключается в переборе некоторого количества значений и оценке качества на кросс-валидации для каждого из них, после чего выбирается значение, для которого было получено наилучшее качество."
   ]
  },
  {
   "cell_type": "code",
   "execution_count": 60,
   "metadata": {},
   "outputs": [
    {
     "name": "stdout",
     "output_type": "stream",
     "text": [
      "Lasso:\n",
      "alpha=0.001: R²=-0.675\n",
      "alpha=0.01: R²=-0.534\n",
      "alpha=0.1: R²=-0.195\n",
      "alpha=1: R²=0.041\n",
      "alpha=10: R²=-0.008\n",
      "alpha=100: R²=-0.008\n"
     ]
    }
   ],
   "source": [
    "from sklearn.model_selection import train_test_split, cross_val_score\n",
    "from sklearn.linear_model import Lasso, Ridge\n",
    "\n",
    "X_train, X_test, y_train, y_test = train_test_split(X_transformed, y, test_size=0.3, random_state=42)\n",
    "# список значений параметра регуляризации\n",
    "alphas = [0.001, 0.01, 0.1, 1, 10, 100]\n",
    "\n",
    "print(\"Lasso:\") # Lasso регуляризация\n",
    "for a in alphas:  \n",
    "    score = cross_val_score(Lasso(alpha=a), X_train[:1000], y_train[:1000], cv=3, scoring='r2').mean()\n",
    "    print(f\"alpha={a}: R²={score:.3f}\")\n",
    "# для каждого альфа мы создаём модель Lasso(alpha=a) и оцениваем её качество\n",
    "# из обучающих данных берётся только первые 1000 наблюдений (строк)\n",
    "# cross_val_score - функция для кросс-валидации. Делит данные на cv (здесь 3) частей,\n",
    "# 3 раза обучает и тестирует модель на разных частях данных.\n",
    "# метрика R² показывает, насколько хорошо модель объясняет дисперсию данных."
   ]
  },
  {
   "cell_type": "code",
   "execution_count": 44,
   "metadata": {},
   "outputs": [
    {
     "name": "stdout",
     "output_type": "stream",
     "text": [
      "\n",
      "Ridge:\n",
      "alpha=0.001: R²=-0.696\n",
      "alpha=0.01: R²=-0.683\n",
      "alpha=0.1: R²=-0.581\n",
      "alpha=1: R²=-0.285\n",
      "alpha=10: R²=-0.022\n",
      "alpha=100: R²=0.041\n"
     ]
    }
   ],
   "source": [
    "print(\"\\nRidge:\")\n",
    "for a in alphas:\n",
    "    score = cross_val_score(Ridge(alpha=a), X_train[:1000], y_train[:1000], cv=3, scoring='r2').mean()\n",
    "    print(f\"alpha={a}: R²={score:.3f}\")"
   ]
  },
  {
   "cell_type": "markdown",
   "metadata": {},
   "source": [
    "__18. (1 балл) __ Обучение линейной регрессии.\n",
    "\n",
    "\n",
    "\n",
    "Обучите линейную регрессию с $L_1$ (Lasso) и $L_2$ (Ridge) регуляризаторами (используйте параметры по умолчанию). Посмотрите, какое количество коэффициентов близко к 0 (степень близости к 0 определите сами из разумных пределов). Постройте график зависимости числа ненулевых коэффициентов от коэффицента регуляризации (перебирайте значения по логарифмической сетке от $10^{-3}$ до $10^3$). Согласуются ли результаты с вашими ожиданиями?"
   ]
  },
  {
   "cell_type": "code",
   "execution_count": null,
   "metadata": {
    "collapsed": true
   },
   "outputs": [
    {
     "data": {
      "image/png": "[encoded data removed]",
      "text/plain": [
       "<Figure size 900x500 with 1 Axes>"
      ]
     },
     "metadata": {},
     "output_type": "display_data"
    }
   ],
   "source": [
    "# Your code here\n",
    "# ...\n",
    "import numpy as np\n",
    "import matplotlib.pyplot as plt\n",
    "from sklearn.linear_model import Lasso\n",
    "\n",
    "alpha_values = np.logspace(-3, 3, 20) # диапазон alpha: от 0.001 до 1000\n",
    "active_features = []\n",
    "\n",
    "for a in alpha_values: # проверка как Lasso обнуляет коэффициенты при разных alpha\n",
    "    model = Lasso(alpha=a, max_iter=5000) \n",
    "    #5000 - увеличиваем число итераций, чтобы модель точно успела сойтись\n",
    "    model.fit(X_train[:1000], y_train[:1000]) \n",
    "    # обучаем на первых 1000 строках обучающей выборки\n",
    "\n",
    "# считаем количество ненулевых коэффициентов\n",
    "    non_zero = np.count_nonzero(np.abs(model.coef_) > 1e-3)\n",
    "    active_features.append(non_zero) # добавляем в список кол. активных признаков\n",
    "\n",
    "plt.figure(figsize=(9, 5))\n",
    "plt.plot(alpha_values, active_features, marker='o', color='darkorange')\n",
    "plt.xscale('log')\n",
    "plt.title('влияние параметра alpha на количество активных признаков (Lasso)')\n",
    "plt.xlabel('значение аlpha')\n",
    "plt.ylabel('количество ненулевых коэффициентов')\n",
    "plt.grid(True)\n",
    "plt.show()\n"
   ]
  },
  {
   "cell_type": "markdown",
   "metadata": {},
   "source": [
    "Это график зависимости числа активных (ненулевых) признаков от силы регуляризации α в Lasso-регрессии.\n",
    "\n",
    "Ось X - значение параметра регуляризации alpha\n",
    "(чем больше alpha, тем сильнее регуляризация).\n",
    "\n",
    "Ось Y - количество активных признаков,те признаков, у которых коэффициент не равен нулю после обучения."
   ]
  },
  {
   "cell_type": "markdown",
   "metadata": {},
   "source": [
    "Посчитайте для Ridge-регрессии следующие метрики: $RMSE$, $MAE$, $R^2$."
   ]
  },
  {
   "cell_type": "code",
   "execution_count": 61,
   "metadata": {
    "collapsed": true
   },
   "outputs": [
    {
     "name": "stdout",
     "output_type": "stream",
     "text": [
      "Ridge Regression результаты:\n",
      "RMSE: 34.781\n",
      "MAE: 17.851\n",
      "R²: 0.096\n"
     ]
    }
   ],
   "source": [
    "# Your code here\n",
    "# ...\n",
    "from sklearn.linear_model import Ridge\n",
    "from sklearn.metrics import mean_squared_error, mean_absolute_error, r2_score\n",
    "import numpy as np\n",
    "ridge = Ridge() # обучение Ridge-регрессию (L2)\n",
    "ridge.fit(X_train, y_train) # модель обучается на тренировочной выборке\n",
    "\n",
    "y_pred_train = ridge.predict(X_train) # предсказываем на обучении и тесте\n",
    "y_pred_test = ridge.predict(X_test)\n",
    "\n",
    "# среднеквадратичная ошибка \n",
    "rmse = np.sqrt(mean_squared_error(y_test, y_pred_test)) # счет метрики\n",
    "mae = mean_absolute_error(y_test, y_pred_test) # средняя абсолютная ошибка\n",
    "r2 = r2_score(y_test, y_pred_test) # коэффициент детерминации\n",
    "\n",
    "print(\"Ridge Regression результаты:\")\n",
    "print(f\"RMSE: {rmse:.3f}\")\n",
    "print(f\"MAE: {mae:.3f}\")\n",
    "print(f\"R²: {r2:.3f}\")"
   ]
  },
  {
   "cell_type": "markdown",
   "metadata": {},
   "source": [
    "Ridge-регрессия сгладила переобучение и дала более стабильный результат, чем обычная линейная модель"
   ]
  },
  {
   "cell_type": "markdown",
   "metadata": {},
   "source": [
    "Подберите на обучающей выборке для Ridge-регрессии коэффициент регуляризации (перебирайте значения по логарифмической сетке от $10^{-3}$ до $10^3$) для каждой из метрик при помощи кросс-валидации c 5 фолдами на тех же 1000 объектах. Для этого воспользуйтесь GridSearchCV и KFold из sklearn. Постройте графики зависимости фукнции потерь от коэффициента регуляризации. Посчитайте те же метрики снова. Заметно ли изменилось качество?\n",
    "\n",
    "Для выполнения данного задания вам могут понадобиться реализованные в библиотеке объекты [LassoCV](http://scikit-learn.org/stable/modules/generated/sklearn.linear_model.LassoCV.html), [RidgeCV](http://scikit-learn.org/stable/modules/generated/sklearn.linear_model.RidgeCV.html) и [KFold](http://scikit-learn.org/stable/modules/generated/sklearn.cross_validation.KFold.html)."
   ]
  },
  {
   "cell_type": "code",
   "execution_count": 62,
   "metadata": {},
   "outputs": [],
   "source": [
    "import numpy as np\n",
    "import matplotlib.pyplot as plt\n",
    "from sklearn.model_selection import GridSearchCV, KFold\n",
    "from sklearn.linear_model import Ridge\n",
    "from sklearn.metrics import mean_squared_error, mean_absolute_error, r2_score\n",
    "# Your code here\n",
    "# ..."
   ]
  },
  {
   "cell_type": "code",
   "execution_count": null,
   "metadata": {},
   "outputs": [
    {
     "name": "stdout",
     "output_type": "stream",
     "text": [
      "Лучший alpha: 112.884\n"
     ]
    }
   ],
   "source": [
    "alphas = np.logspace(-3, 3, 20)\n",
    "# создаем логарифмическую сетку из 20 значений alpha от 0.001 до 1000 для перебора\n",
    "param_grid = {'alpha': alphas}\n",
    "# создаем словарь параметров для GridSearchCV, \n",
    "# который будет проверять разные значения alpha\n",
    "\n",
    "kf = KFold(n_splits=5, shuffle=True, random_state=42)\n",
    "# инициализируем кв с 5 фолдами, \n",
    "# перемешиваем данные и фиксируем random_state для воспроизводимости\n",
    "grid = GridSearchCV(Ridge(), param_grid, cv=kf, scoring='neg_mean_squared_error')# создаем объект GridSearchCV\n",
    "# он будет подбирать лучший альфа для Ridge по среднеквадратичной ошибке\n",
    "grid.fit(X_train[:1000], y_train[:1000])\n",
    "# обучаем на первых 1000 объектах обучающей выборки\n",
    "\n",
    "\n",
    "print(f\"Лучший alpha: {grid.best_params_['alpha']:.3f}\")"
   ]
  },
  {
   "cell_type": "code",
   "execution_count": 70,
   "metadata": {},
   "outputs": [
    {
     "data": {
      "image/png": "[encoded data removed]",
      "text/plain": [
       "<Figure size 1000x600 with 1 Axes>"
      ]
     },
     "metadata": {},
     "output_type": "display_data"
    }
   ],
   "source": [
    "# сохраняем все результаты GridSearchCV, включая средние значения MSE для каждого alpha\n",
    "results = grid.cv_results_ \n",
    "plt.figure(figsize=(10, 6))\n",
    "plt.plot(alphas, -results['mean_test_score'], 'bo-')\n",
    "plt.xscale('log')\n",
    "plt.xlabel('Alpha')\n",
    "plt.ylabel('Средняя MSE (5-fold CV)')\n",
    "plt.title('Ridge: зависимость MSE от коэффициента регуляризации')\n",
    "plt.grid(True)\n",
    "plt.show()"
   ]
  },
  {
   "cell_type": "markdown",
   "metadata": {},
   "source": [
    " график показывает, как изменяется средняя ошибка при разных значениях alpha\n",
    "\n"
   ]
  },
  {
   "cell_type": "code",
   "execution_count": 71,
   "metadata": {},
   "outputs": [
    {
     "name": "stdout",
     "output_type": "stream",
     "text": [
      "\n",
      "Метрики Ridge с подобранным alpha:\n",
      "RMSE: 35.5 минут\n",
      "MAE: 18.4 минут\n",
      "R²: 0.059\n"
     ]
    }
   ],
   "source": [
    "\n",
    "best_alpha = grid.best_params_['alpha']\n",
    "best_ridge = Ridge(alpha=best_alpha) # создаем Ridge-регрессию с найденным лучшим alpha\n",
    "best_ridge.fit(X_train[:1000], y_train[:1000])\n",
    "y_pred_best = best_ridge.predict(X_test)\n",
    "\n",
    "# \n",
    "rmse = np.sqrt(mean_squared_error(y_test, y_pred_best)) # счет метрики\n",
    "mae = mean_absolute_error(y_test, y_pred_best) # средняя абсолютная ошибка\n",
    "r2 = r2_score(y_test, y_pred_best) # коэффициент детерминации\n",
    "\n",
    "print(\"\\nМетрики Ridge с подобранным alpha:\")\n",
    "print(f\"RMSE: {rmse:.1f} минут\")\n",
    "print(f\"MAE: {mae:.1f} минут\")\n",
    "print(f\"R²: {r2:.3f}\")\n"
   ]
  },
  {
   "cell_type": "code",
   "execution_count": 72,
   "metadata": {},
   "outputs": [
    {
     "data": {
      "image/png": "[encoded data removed]",
      "text/plain": [
       "<Figure size 1500x500 with 2 Axes>"
      ]
     },
     "metadata": {},
     "output_type": "display_data"
    }
   ],
   "source": [
    "# два подграфика\n",
    "fig, (ax1, ax2) = plt.subplots(1, 2, figsize=(15, 5))\n",
    "\n",
    "ax1.scatter(y_test, y_pred_best, alpha=0.5)\n",
    "ax1.plot([y_test.min(), y_test.max()], [y_test.min(), y_test.max()], 'r--', lw=2)\n",
    "# добавляем диагональ, чтобы видеть совпадение предсказаний и реальных значений\n",
    "ax1.set_xlabel('Реальные значения')\n",
    "ax1.set_ylabel('Предсказания')\n",
    "ax1.set_title(f'Ridge (alpha={best_alpha:.3f}): Предсказания vs Реальные значения')\n",
    "ax1.grid(True)\n",
    "\n",
    "# считаем ошибки предсказания\n",
    "errors = y_test - y_pred_best\n",
    "ax2.hist(errors, bins=50, edgecolor='black')\n",
    "ax2.set_xlabel('Ошибка предсказания (минуты)')\n",
    "ax2.set_ylabel('Количество')\n",
    "ax2.set_title('Распределение ошибок Ridge')\n",
    "ax2.grid(True)\n",
    "# гистограмма показывает, как часто модель ошибается на определенное количество минут\n",
    "plt.tight_layout()\n",
    "plt.show()"
   ]
  },
  {
   "cell_type": "markdown",
   "metadata": {
    "collapsed": true
   },
   "source": [
    "__19. (0.5 балла)__ Поиск объектов-выбросов\n",
    "\n",
    "\n",
    "Как известно, MSE сильно штрафует за большие ошибки на объектах-выбросах. С помощью cross_val_predict сделайте Out-of-Fold предсказания для обучающей выборки. Посчитайте ошибки и посмотрите на их распределение (plt.hist). Что вы видите?"
   ]
  },
  {
   "cell_type": "code",
   "execution_count": null,
   "metadata": {},
   "outputs": [
    {
     "data": {
      "image/png": "[encoded data removed]",
      "text/plain": [
       "<Figure size 1000x600 with 1 Axes>"
      ]
     },
     "metadata": {},
     "output_type": "display_data"
    }
   ],
   "source": [
    "import numpy as np\n",
    "import matplotlib.pyplot as plt\n",
    "from sklearn.model_selection import cross_val_predict\n",
    "from sklearn.linear_model import Ridge\n",
    "ridge = Ridge(alpha=best_alpha)\n",
    "\n",
    "# делаем out-of-fold предсказания для обучения с кв\n",
    "# каждая часть данных предсказывается моделью, которая не видела эту часть\n",
    "y_oof_pred = cross_val_predict(ridge, X_train[:1000], y_train[:1000], cv=5)\n",
    "\n",
    "# считаем ошибки предсказания для OOF \n",
    "# вычисляем отклонения между реальными и предсказанными значениями\n",
    "errors = y_train[:1000] - y_oof_pred\n",
    "\n",
    "plt.figure(figsize=(10, 6))\n",
    "plt.hist(errors, bins=50, edgecolor='black')\n",
    "plt.xlabel(\"Ошибка предсказания (реальное - предсказанное)\")\n",
    "plt.ylabel(\"Количество объектов\")\n",
    "plt.title(\"Распределение ошибок Ridge (Out-of-Fold)\")\n",
    "plt.grid(True)\n",
    "plt.show()\n",
    "\n",
    "# гистограмма показывает распределение ошибок на обучающей выборке"
   ]
  },
  {
   "cell_type": "code",
   "execution_count": 74,
   "metadata": {},
   "outputs": [
    {
     "name": "stdout",
     "output_type": "stream",
     "text": [
      "Средняя ошибка: -0.02\n",
      "Стандартное отклонение ошибок: 31.53\n",
      "Максимальная ошибка: 267.68\n",
      "Минимальная ошибка: -44.68\n"
     ]
    }
   ],
   "source": [
    "# статистика ошибок\n",
    "print(f\"Средняя ошибка: {np.mean(errors):.2f}\")\n",
    "print(f\"Стандартное отклонение ошибок: {np.std(errors):.2f}\")\n",
    "print(f\"Максимальная ошибка: {np.max(errors):.2f}\")\n",
    "print(f\"Минимальная ошибка: {np.min(errors):.2f}\")"
   ]
  }
 ],
 "metadata": {
  "kernelspec": {
   "display_name": "Python 3",
   "language": "python",
   "name": "python3"
  },
  "language_info": {
   "codemirror_mode": {
    "name": "ipython",
    "version": 3
   },
   "file_extension": ".py",
   "mimetype": "text/x-python",
   "name": "python",
   "nbconvert_exporter": "python",
   "pygments_lexer": "ipython3",
   "version": "3.13.3"
  }
 },
 "nbformat": 4,
 "nbformat_minor": 1
}
